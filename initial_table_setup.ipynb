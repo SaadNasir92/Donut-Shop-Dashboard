{
 "cells": [
  {
   "cell_type": "markdown",
   "metadata": {},
   "source": [
    "#### Saved SQL queries we need to run to make the tables, going to do those first"
   ]
  },
  {
   "cell_type": "code",
   "execution_count": 1,
   "metadata": {},
   "outputs": [],
   "source": [
    "from src import ENGINE\n",
    "from sqlalchemy import text\n",
    "from src.dimension_modeler import Dimension_Modeler\n",
    "import os\n",
    "import pandas as pd"
   ]
  },
  {
   "cell_type": "code",
   "execution_count": 56,
   "metadata": {},
   "outputs": [],
   "source": [
    "with open ('sql_src/initial_table_queries/initial_tables.sql', 'r') as file:\n",
    "    for line in file:\n",
    "        data=file.read()"
   ]
  },
  {
   "cell_type": "code",
   "execution_count": 57,
   "metadata": {},
   "outputs": [],
   "source": [
    "queries = [f'{line.strip()};' for line in data.split(';') if line.strip()]"
   ]
  },
  {
   "cell_type": "code",
   "execution_count": 58,
   "metadata": {},
   "outputs": [
    {
     "data": {
      "text/plain": [
       "['CREATE TABLE \"dim_employees\" (\\n    \"employee_id\" INTEGER   NOT NULL,\\n    \"employee_name\" VARCHAR(100)   NOT NULL,\\n    \"job_title\" VARCHAR(30)   NOT NULL,\\n    CONSTRAINT \"pk_dim_employees\" PRIMARY KEY (\\n        \"employee_id\"\\n     )\\n);',\n",
       " 'CREATE TABLE \"dim_dates\" (\\n    \"date_id\" INTEGER   NOT NULL,\\n    \"full_date\" DATE   NOT NULL,\\n    \"year\" INTEGER   NOT NULL,\\n    \"month\" INTEGER   NOT NULL,\\n    \"day\" INTEGER   NOT NULL,\\n    \"quarter\" INTEGER   NOT NULL,\\n    CONSTRAINT \"pk_dim_dates\" PRIMARY KEY (\\n        \"date_id\"\\n     )\\n);',\n",
       " 'CREATE TABLE \"dim_payment_methods\" (\\n    \"payment_method_id\" INTEGER   NOT NULL,\\n    \"payment_method\" VARCHAR(10)   NOT NULL,\\n    CONSTRAINT \"pk_dim_payment_methods\" PRIMARY KEY (\\n        \"payment_method_id\"\\n     )\\n);',\n",
       " 'CREATE TABLE \"dim_promotions\" (\\n    \"promotion_id\" INTEGER   NOT NULL,\\n    \"promotion_name\" VARCHAR(50)   NOT NULL,\\n    \"discount_percentage\" DECIMAL(5,2)   NOT NULL,\\n    \"description\" VARCHAR(255)   NOT NULL,\\n    CONSTRAINT \"pk_dim_promotions\" PRIMARY KEY (\\n        \"promotion_id\"\\n     )\\n);',\n",
       " 'CREATE TABLE \"dim_products\" (\\n    \"product_key\" INTEGER   NOT NULL,\\n    \"product_id\" INTEGER   NOT NULL,\\n    \"product_name\" VARCHAR(50)   NOT NULL,\\n    \"product_category\" VARCHAR(50)   NOT NULL,\\n    \"product_price\" DECIMAL(10,2)   NOT NULL,\\n    \"product_cost\" DECIMAL(10,2)   NOT NULL,\\n    \"start_date\" DATE   NOT NULL,\\n    \"end_date\" DATE   NOT NULL,\\n    \"is_current\" Bool   NOT NULL,\\n    CONSTRAINT \"pk_dim_products\" PRIMARY KEY (\\n        \"product_key\"\\n     )\\n);',\n",
       " 'CREATE TABLE \"fact_transactions\" (\\n    \"transaction_key\" INTEGER   NOT NULL,\\n    \"transaction_id\" INTEGER   NOT NULL,\\n    \"employee_id\" INTEGER   NOT NULL,\\n    \"product_key\" INTEGER   NOT NULL,\\n    \"date_id\" INTEGER   NOT NULL,\\n    \"promotion_id\" INTEGER   NOT NULL,\\n    \"payment_method_id\" INTEGER   NOT NULL,\\n    \"quantity\" INTEGER   NOT NULL,\\n    \"discount_amount\" DECIMAL(10,2)   NOT NULL,\\n    \"subtotal_amount\" DECIMAL(10,2)   NOT NULL,\\n    \"tax_amount\" DECIMAL(10,2)   NOT NULL,\\n    \"total_sale_amount\" DECIMAL(10,2)   NOT NULL,\\n    CONSTRAINT \"pk_fact_transactions\" PRIMARY KEY (\\n        \"transaction_key\"\\n     )\\n);',\n",
       " 'ALTER TABLE \"fact_transactions\" ADD CONSTRAINT \"fk_fact_transactions_employee_id\" FOREIGN KEY(\"employee_id\")\\nREFERENCES \"dim_employees\" (\"employee_id\");',\n",
       " 'ALTER TABLE \"fact_transactions\" ADD CONSTRAINT \"fk_fact_transactions_product_key\" FOREIGN KEY(\"product_key\")\\nREFERENCES \"dim_products\" (\"product_key\");',\n",
       " 'ALTER TABLE \"fact_transactions\" ADD CONSTRAINT \"fk_fact_transactions_date_id\" FOREIGN KEY(\"date_id\")\\nREFERENCES \"dim_dates\" (\"date_id\");',\n",
       " 'ALTER TABLE \"fact_transactions\" ADD CONSTRAINT \"fk_fact_transactions_promotion_id\" FOREIGN KEY(\"promotion_id\")\\nREFERENCES \"dim_promotions\" (\"promotion_id\");',\n",
       " 'ALTER TABLE \"fact_transactions\" ADD CONSTRAINT \"fk_fact_transactions_payment_method_id\" FOREIGN KEY(\"payment_method_id\")\\nREFERENCES \"dim_payment_methods\" (\"payment_method_id\");']"
      ]
     },
     "execution_count": 58,
     "metadata": {},
     "output_type": "execute_result"
    }
   ],
   "source": [
    "queries"
   ]
  },
  {
   "cell_type": "code",
   "execution_count": 59,
   "metadata": {},
   "outputs": [
    {
     "name": "stdout",
     "output_type": "stream",
     "text": [
      "CREATE TABLE \"dim_employees\" (\n",
      "    \"employee_id\" INTEGER   NOT NULL,\n",
      "    \"employee_name\" VARCHAR(100)   NOT NULL,\n",
      "    \"job_title\" VARCHAR(30)   NOT NULL,\n",
      "    CONSTRAINT \"pk_dim_employees\" PRIMARY KEY (\n",
      "        \"employee_id\"\n",
      "     )\n",
      ");\n",
      "CREATE TABLE \"dim_dates\" (\n",
      "    \"date_id\" INTEGER   NOT NULL,\n",
      "    \"full_date\" DATE   NOT NULL,\n",
      "    \"year\" INTEGER   NOT NULL,\n",
      "    \"month\" INTEGER   NOT NULL,\n",
      "    \"day\" INTEGER   NOT NULL,\n",
      "    \"quarter\" INTEGER   NOT NULL,\n",
      "    CONSTRAINT \"pk_dim_dates\" PRIMARY KEY (\n",
      "        \"date_id\"\n",
      "     )\n",
      ");\n",
      "CREATE TABLE \"dim_payment_methods\" (\n",
      "    \"payment_method_id\" INTEGER   NOT NULL,\n",
      "    \"payment_method\" VARCHAR(10)   NOT NULL,\n",
      "    CONSTRAINT \"pk_dim_payment_methods\" PRIMARY KEY (\n",
      "        \"payment_method_id\"\n",
      "     )\n",
      ");\n",
      "CREATE TABLE \"dim_promotions\" (\n",
      "    \"promotion_id\" INTEGER   NOT NULL,\n",
      "    \"promotion_name\" VARCHAR(50)   NOT NULL,\n",
      "    \"discount_percentage\" DECIMAL(5,2)   NOT NULL,\n",
      "    \"description\" VARCHAR(255)   NOT NULL,\n",
      "    CONSTRAINT \"pk_dim_promotions\" PRIMARY KEY (\n",
      "        \"promotion_id\"\n",
      "     )\n",
      ");\n",
      "CREATE TABLE \"dim_products\" (\n",
      "    \"product_key\" INTEGER   NOT NULL,\n",
      "    \"product_id\" INTEGER   NOT NULL,\n",
      "    \"product_name\" VARCHAR(50)   NOT NULL,\n",
      "    \"product_category\" VARCHAR(50)   NOT NULL,\n",
      "    \"product_price\" DECIMAL(10,2)   NOT NULL,\n",
      "    \"product_cost\" DECIMAL(10,2)   NOT NULL,\n",
      "    \"start_date\" DATE   NOT NULL,\n",
      "    \"end_date\" DATE   NOT NULL,\n",
      "    \"is_current\" Bool   NOT NULL,\n",
      "    CONSTRAINT \"pk_dim_products\" PRIMARY KEY (\n",
      "        \"product_key\"\n",
      "     )\n",
      ");\n",
      "CREATE TABLE \"fact_transactions\" (\n",
      "    \"transaction_key\" INTEGER   NOT NULL,\n",
      "    \"transaction_id\" INTEGER   NOT NULL,\n",
      "    \"employee_id\" INTEGER   NOT NULL,\n",
      "    \"product_key\" INTEGER   NOT NULL,\n",
      "    \"date_id\" INTEGER   NOT NULL,\n",
      "    \"promotion_id\" INTEGER   NOT NULL,\n",
      "    \"payment_method_id\" INTEGER   NOT NULL,\n",
      "    \"quantity\" INTEGER   NOT NULL,\n",
      "    \"discount_amount\" DECIMAL(10,2)   NOT NULL,\n",
      "    \"subtotal_amount\" DECIMAL(10,2)   NOT NULL,\n",
      "    \"tax_amount\" DECIMAL(10,2)   NOT NULL,\n",
      "    \"total_sale_amount\" DECIMAL(10,2)   NOT NULL,\n",
      "    CONSTRAINT \"pk_fact_transactions\" PRIMARY KEY (\n",
      "        \"transaction_key\"\n",
      "     )\n",
      ");\n",
      "ALTER TABLE \"fact_transactions\" ADD CONSTRAINT \"fk_fact_transactions_employee_id\" FOREIGN KEY(\"employee_id\")\n",
      "REFERENCES \"dim_employees\" (\"employee_id\");\n",
      "ALTER TABLE \"fact_transactions\" ADD CONSTRAINT \"fk_fact_transactions_product_key\" FOREIGN KEY(\"product_key\")\n",
      "REFERENCES \"dim_products\" (\"product_key\");\n",
      "ALTER TABLE \"fact_transactions\" ADD CONSTRAINT \"fk_fact_transactions_date_id\" FOREIGN KEY(\"date_id\")\n",
      "REFERENCES \"dim_dates\" (\"date_id\");\n",
      "ALTER TABLE \"fact_transactions\" ADD CONSTRAINT \"fk_fact_transactions_promotion_id\" FOREIGN KEY(\"promotion_id\")\n",
      "REFERENCES \"dim_promotions\" (\"promotion_id\");\n",
      "ALTER TABLE \"fact_transactions\" ADD CONSTRAINT \"fk_fact_transactions_payment_method_id\" FOREIGN KEY(\"payment_method_id\")\n",
      "REFERENCES \"dim_payment_methods\" (\"payment_method_id\");\n"
     ]
    }
   ],
   "source": [
    "for q in queries:\n",
    "    print(q)"
   ]
  },
  {
   "cell_type": "code",
   "execution_count": 67,
   "metadata": {},
   "outputs": [
    {
     "name": "stdout",
     "output_type": "stream",
     "text": [
      "CREATE TABLE \"dim_employees\" (\n",
      "    \"employee_id\" INTEGER   NOT NULL,\n",
      "    \"employee_name\" VARCHAR(100)   NOT NULL,\n",
      "    \"job_title\" VARCHAR(30)   NOT NULL,\n",
      "    CONSTRAINT \"pk_dim_employees\" PRIMARY KEY (\n",
      "        \"employee_id\"\n",
      "     )\n",
      "); executed.\n",
      "CREATE TABLE \"dim_dates\" (\n",
      "    \"date_id\" INTEGER   NOT NULL,\n",
      "    \"full_date\" DATE   NOT NULL,\n",
      "    \"year\" INTEGER   NOT NULL,\n",
      "    \"month\" INTEGER   NOT NULL,\n",
      "    \"day\" INTEGER   NOT NULL,\n",
      "    \"quarter\" INTEGER   NOT NULL,\n",
      "    CONSTRAINT \"pk_dim_dates\" PRIMARY KEY (\n",
      "        \"date_id\"\n",
      "     )\n",
      "); executed.\n",
      "CREATE TABLE \"dim_payment_methods\" (\n",
      "    \"payment_method_id\" INTEGER   NOT NULL,\n",
      "    \"payment_method\" VARCHAR(10)   NOT NULL,\n",
      "    CONSTRAINT \"pk_dim_payment_methods\" PRIMARY KEY (\n",
      "        \"payment_method_id\"\n",
      "     )\n",
      "); executed.\n",
      "CREATE TABLE \"dim_promotions\" (\n",
      "    \"promotion_id\" INTEGER   NOT NULL,\n",
      "    \"promotion_name\" VARCHAR(50)   NOT NULL,\n",
      "    \"discount_percentage\" DECIMAL(5,2)   NOT NULL,\n",
      "    \"description\" VARCHAR(255)   NOT NULL,\n",
      "    CONSTRAINT \"pk_dim_promotions\" PRIMARY KEY (\n",
      "        \"promotion_id\"\n",
      "     )\n",
      "); executed.\n",
      "CREATE TABLE \"dim_products\" (\n",
      "    \"product_key\" INTEGER   NOT NULL,\n",
      "    \"product_id\" INTEGER   NOT NULL,\n",
      "    \"product_name\" VARCHAR(50)   NOT NULL,\n",
      "    \"product_category\" VARCHAR(50)   NOT NULL,\n",
      "    \"product_price\" DECIMAL(10,2)   NOT NULL,\n",
      "    \"product_cost\" DECIMAL(10,2)   NOT NULL,\n",
      "    \"start_date\" DATE   NOT NULL,\n",
      "    \"end_date\" DATE   NOT NULL,\n",
      "    \"is_current\" Bool   NOT NULL,\n",
      "    CONSTRAINT \"pk_dim_products\" PRIMARY KEY (\n",
      "        \"product_key\"\n",
      "     )\n",
      "); executed.\n",
      "CREATE TABLE \"fact_transactions\" (\n",
      "    \"transaction_key\" INTEGER   NOT NULL,\n",
      "    \"transaction_id\" INTEGER   NOT NULL,\n",
      "    \"employee_id\" INTEGER   NOT NULL,\n",
      "    \"product_key\" INTEGER   NOT NULL,\n",
      "    \"date_id\" INTEGER   NOT NULL,\n",
      "    \"promotion_id\" INTEGER   NOT NULL,\n",
      "    \"payment_method_id\" INTEGER   NOT NULL,\n",
      "    \"quantity\" INTEGER   NOT NULL,\n",
      "    \"discount_amount\" DECIMAL(10,2)   NOT NULL,\n",
      "    \"subtotal_amount\" DECIMAL(10,2)   NOT NULL,\n",
      "    \"tax_amount\" DECIMAL(10,2)   NOT NULL,\n",
      "    \"total_sale_amount\" DECIMAL(10,2)   NOT NULL,\n",
      "    CONSTRAINT \"pk_fact_transactions\" PRIMARY KEY (\n",
      "        \"transaction_key\"\n",
      "     )\n",
      "); executed.\n",
      "ALTER TABLE \"fact_transactions\" ADD CONSTRAINT \"fk_fact_transactions_employee_id\" FOREIGN KEY(\"employee_id\")\n",
      "REFERENCES \"dim_employees\" (\"employee_id\"); executed.\n",
      "ALTER TABLE \"fact_transactions\" ADD CONSTRAINT \"fk_fact_transactions_product_key\" FOREIGN KEY(\"product_key\")\n",
      "REFERENCES \"dim_products\" (\"product_key\"); executed.\n",
      "ALTER TABLE \"fact_transactions\" ADD CONSTRAINT \"fk_fact_transactions_date_id\" FOREIGN KEY(\"date_id\")\n",
      "REFERENCES \"dim_dates\" (\"date_id\"); executed.\n",
      "ALTER TABLE \"fact_transactions\" ADD CONSTRAINT \"fk_fact_transactions_promotion_id\" FOREIGN KEY(\"promotion_id\")\n",
      "REFERENCES \"dim_promotions\" (\"promotion_id\"); executed.\n",
      "ALTER TABLE \"fact_transactions\" ADD CONSTRAINT \"fk_fact_transactions_payment_method_id\" FOREIGN KEY(\"payment_method_id\")\n",
      "REFERENCES \"dim_payment_methods\" (\"payment_method_id\"); executed.\n"
     ]
    }
   ],
   "source": [
    "for query in queries:\n",
    "    with ENGINE.connect() as conn:\n",
    "        conn.execute(text(query))\n",
    "        print(f'{query} executed.')"
   ]
  },
  {
   "cell_type": "markdown",
   "metadata": {},
   "source": [
    "#### Dumping data into the tables\n"
   ]
  },
  {
   "cell_type": "code",
   "execution_count": 2,
   "metadata": {},
   "outputs": [],
   "source": [
    "directory_path = 'datasets/fact_dimensions_models'"
   ]
  },
  {
   "cell_type": "code",
   "execution_count": 3,
   "metadata": {},
   "outputs": [
    {
     "name": "stdout",
     "output_type": "stream",
     "text": [
      "dim_dates successfully loaded into database.\n",
      "dim_employees successfully loaded into database.\n",
      "dim_payment_methods successfully loaded into database.\n",
      "dim_products successfully loaded into database.\n",
      "dim_promotions successfully loaded into database.\n",
      "fact_transactions successfully loaded into database.\n"
     ]
    }
   ],
   "source": [
    "for filename in os.listdir(directory_path):\n",
    "    model = Dimension_Modeler(pd.read_csv(f'{directory_path}/{filename}'))\n",
    "    model.load_data(filename.split('.')[0], ENGINE)"
   ]
  },
  {
   "cell_type": "code",
   "execution_count": 4,
   "metadata": {},
   "outputs": [
    {
     "name": "stdout",
     "output_type": "stream",
     "text": [
      "dim_dates\n",
      "dim_employees\n",
      "dim_payment_methods\n",
      "dim_products\n",
      "dim_promotions\n",
      "fact_transactions\n"
     ]
    }
   ],
   "source": [
    "for filename in os.listdir(directory_path):\n",
    "    print(filename.split('.')[0])"
   ]
  }
 ],
 "metadata": {
  "kernelspec": {
   "display_name": "base",
   "language": "python",
   "name": "python3"
  },
  "language_info": {
   "codemirror_mode": {
    "name": "ipython",
    "version": 3
   },
   "file_extension": ".py",
   "mimetype": "text/x-python",
   "name": "python",
   "nbconvert_exporter": "python",
   "pygments_lexer": "ipython3",
   "version": "3.11.7"
  }
 },
 "nbformat": 4,
 "nbformat_minor": 2
}
