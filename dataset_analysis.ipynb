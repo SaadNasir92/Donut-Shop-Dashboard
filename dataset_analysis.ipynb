{
 "cells": [
  {
   "cell_type": "code",
   "execution_count": 1,
   "metadata": {},
   "outputs": [],
   "source": [
    "import pandas as pd\n",
    "from src.dimension_modeler import Dimension_Modeler"
   ]
  },
  {
   "cell_type": "markdown",
   "metadata": {},
   "source": [
    "### DIM PRODUCTS\n",
    "- product_id (int) (Natural Key)\n",
    "- product_key (int) (Surrogate Key)\n",
    "- product_name (str)\n",
    "- product_category (str)\n",
    "- product_price (decimal 10,2)\n",
    "- product_cost (decimal 10,2)\n",
    "- is_current(boolean)\n",
    "- start_date (date)\n",
    "- end_date (date)"
   ]
  },
  {
   "cell_type": "code",
   "execution_count": 9,
   "metadata": {},
   "outputs": [],
   "source": [
    "products_df = pd.read_csv('datasets/donut_shop_product_info.csv')"
   ]
  },
  {
   "cell_type": "code",
   "execution_count": 10,
   "metadata": {},
   "outputs": [],
   "source": [
    "prod_dim_model = Dimension_Modeler(products_df)"
   ]
  },
  {
   "cell_type": "code",
   "execution_count": 12,
   "metadata": {},
   "outputs": [
    {
     "data": {
      "text/html": [
       "<div>\n",
       "<style scoped>\n",
       "    .dataframe tbody tr th:only-of-type {\n",
       "        vertical-align: middle;\n",
       "    }\n",
       "\n",
       "    .dataframe tbody tr th {\n",
       "        vertical-align: top;\n",
       "    }\n",
       "\n",
       "    .dataframe thead th {\n",
       "        text-align: right;\n",
       "    }\n",
       "</style>\n",
       "<table border=\"1\" class=\"dataframe\">\n",
       "  <thead>\n",
       "    <tr style=\"text-align: right;\">\n",
       "      <th></th>\n",
       "      <th>Product Category</th>\n",
       "      <th>Product Price</th>\n",
       "      <th>Product Cost</th>\n",
       "      <th>Historical Cost</th>\n",
       "    </tr>\n",
       "  </thead>\n",
       "  <tbody>\n",
       "    <tr>\n",
       "      <th>0</th>\n",
       "      <td>Donut</td>\n",
       "      <td>1</td>\n",
       "      <td>0.10</td>\n",
       "      <td>0.1</td>\n",
       "    </tr>\n",
       "    <tr>\n",
       "      <th>1</th>\n",
       "      <td>Hot Foods</td>\n",
       "      <td>3</td>\n",
       "      <td>0.80</td>\n",
       "      <td>0.5</td>\n",
       "    </tr>\n",
       "    <tr>\n",
       "      <th>2</th>\n",
       "      <td>Drinks</td>\n",
       "      <td>2</td>\n",
       "      <td>1.15</td>\n",
       "      <td>1.0</td>\n",
       "    </tr>\n",
       "  </tbody>\n",
       "</table>\n",
       "</div>"
      ],
      "text/plain": [
       "  Product Category  Product Price  Product Cost  Historical Cost\n",
       "0            Donut              1          0.10              0.1\n",
       "1        Hot Foods              3          0.80              0.5\n",
       "2           Drinks              2          1.15              1.0"
      ]
     },
     "execution_count": 12,
     "metadata": {},
     "output_type": "execute_result"
    }
   ],
   "source": [
    "prod_dim_model.df.head()"
   ]
  },
  {
   "cell_type": "code",
   "execution_count": 13,
   "metadata": {},
   "outputs": [],
   "source": [
    "transactions_df = pd.read_csv('datasets/donut_shop_transactions.csv')"
   ]
  },
  {
   "cell_type": "code",
   "execution_count": 77,
   "metadata": {},
   "outputs": [],
   "source": [
    "price_history = []\n"
   ]
  },
  {
   "cell_type": "code",
   "execution_count": null,
   "metadata": {},
   "outputs": [],
   "source": [
    "for x in transactions_df.groupby('Category')['Price per Unit'].value_counts().index:\n",
    "    price_history.append({\n",
    "            'category': x[0],\n",
    "            'price': x[1],\n",
    "            'start_date': transactions_df[transactions_df['Price per Unit'] == x[1]]['Date'].min(),\n",
    "            'end_date': transactions_df[transactions_df['Price per Unit'] == x[1]]['Date'].max(),\n",
    "            }\n",
    "                         )"
   ]
  },
  {
   "cell_type": "code",
   "execution_count": 80,
   "metadata": {},
   "outputs": [
    {
     "data": {
      "text/plain": [
       "[{'category': 'Donut',\n",
       "  'price': 1.0,\n",
       "  'start_date': '2020-01-01 00:27:34',\n",
       "  'end_date': '2024-12-31 23:53:27'},\n",
       " {'category': 'Donut',\n",
       "  'price': 0.5,\n",
       "  'start_date': '2015-01-01 01:35:44',\n",
       "  'end_date': '2019-12-31 23:49:08'},\n",
       " {'category': 'Drinks',\n",
       "  'price': 2.0,\n",
       "  'start_date': '2020-01-01 03:05:09',\n",
       "  'end_date': '2024-12-31 23:53:27'},\n",
       " {'category': 'Drinks',\n",
       "  'price': 1.25,\n",
       "  'start_date': '2015-01-01 00:56:32',\n",
       "  'end_date': '2019-12-31 23:49:08'},\n",
       " {'category': 'Hot Foods',\n",
       "  'price': 3.0,\n",
       "  'start_date': '2020-01-01 00:27:34',\n",
       "  'end_date': '2024-12-31 23:53:27'},\n",
       " {'category': 'Hot Foods',\n",
       "  'price': 1.5,\n",
       "  'start_date': '2015-01-01 01:41:45',\n",
       "  'end_date': '2019-12-31 23:32:46'}]"
      ]
     },
     "execution_count": 80,
     "metadata": {},
     "output_type": "execute_result"
    }
   ],
   "source": [
    "price_history"
   ]
  },
  {
   "cell_type": "code",
   "execution_count": 19,
   "metadata": {},
   "outputs": [
    {
     "data": {
      "text/plain": [
       "'2024-12-31 23:53:27'"
      ]
     },
     "execution_count": 19,
     "metadata": {},
     "output_type": "execute_result"
    }
   ],
   "source": [
    "transactions_df[transactions_df['Price per Unit'] == 1.00]['Date'].max()"
   ]
  },
  {
   "cell_type": "code",
   "execution_count": 20,
   "metadata": {},
   "outputs": [
    {
     "data": {
      "text/plain": [
       "'2020-01-01 00:27:34'"
      ]
     },
     "execution_count": 20,
     "metadata": {},
     "output_type": "execute_result"
    }
   ],
   "source": [
    "transactions_df[transactions_df['Price per Unit'] == 1.00]['Date'].min()"
   ]
  },
  {
   "cell_type": "code",
   "execution_count": null,
   "metadata": {},
   "outputs": [],
   "source": [
    "products_df[]"
   ]
  },
  {
   "cell_type": "code",
   "execution_count": null,
   "metadata": {},
   "outputs": [],
   "source": []
  },
  {
   "cell_type": "code",
   "execution_count": null,
   "metadata": {},
   "outputs": [],
   "source": []
  },
  {
   "cell_type": "code",
   "execution_count": null,
   "metadata": {},
   "outputs": [],
   "source": []
  },
  {
   "cell_type": "code",
   "execution_count": null,
   "metadata": {},
   "outputs": [],
   "source": []
  },
  {
   "cell_type": "code",
   "execution_count": null,
   "metadata": {},
   "outputs": [],
   "source": []
  },
  {
   "cell_type": "markdown",
   "metadata": {},
   "source": [
    "### DIM EMPLOYEES\n",
    "- employee_id (int) DONE \n",
    "- employee_name (str) DONE \n",
    "- job_title (str) DONE "
   ]
  },
  {
   "cell_type": "code",
   "execution_count": 2,
   "metadata": {},
   "outputs": [],
   "source": [
    "employee_df = pd.read_csv('datasets/donut_shop_employees.csv')\n"
   ]
  },
  {
   "cell_type": "code",
   "execution_count": 3,
   "metadata": {},
   "outputs": [],
   "source": [
    "dim_model = Dimension_Modeler(employee_df)"
   ]
  },
  {
   "cell_type": "code",
   "execution_count": 4,
   "metadata": {},
   "outputs": [],
   "source": [
    "employee_df.columns = ['employee_name', 'job_title']"
   ]
  },
  {
   "cell_type": "code",
   "execution_count": 5,
   "metadata": {},
   "outputs": [
    {
     "data": {
      "text/plain": [
       "employee_name    object\n",
       "job_title        object\n",
       "dtype: object"
      ]
     },
     "execution_count": 5,
     "metadata": {},
     "output_type": "execute_result"
    }
   ],
   "source": [
    "employee_df.dtypes"
   ]
  },
  {
   "cell_type": "code",
   "execution_count": 6,
   "metadata": {},
   "outputs": [],
   "source": [
    "employee_df = dim_model.make_id_col()"
   ]
  },
  {
   "cell_type": "code",
   "execution_count": 7,
   "metadata": {},
   "outputs": [
    {
     "data": {
      "text/plain": [
       "id                int64\n",
       "employee_name    object\n",
       "job_title        object\n",
       "dtype: object"
      ]
     },
     "execution_count": 7,
     "metadata": {},
     "output_type": "execute_result"
    }
   ],
   "source": [
    "employee_df.dtypes"
   ]
  },
  {
   "cell_type": "code",
   "execution_count": 8,
   "metadata": {},
   "outputs": [
    {
     "name": "stdout",
     "output_type": "stream",
     "text": [
      "dim_employees.csv created in datasets/dimensions/\n"
     ]
    }
   ],
   "source": [
    "dim_model.make_csv('dim_employees')"
   ]
  }
 ],
 "metadata": {
  "kernelspec": {
   "display_name": "base",
   "language": "python",
   "name": "python3"
  },
  "language_info": {
   "codemirror_mode": {
    "name": "ipython",
    "version": 3
   },
   "file_extension": ".py",
   "mimetype": "text/x-python",
   "name": "python",
   "nbconvert_exporter": "python",
   "pygments_lexer": "ipython3",
   "version": "3.11.7"
  }
 },
 "nbformat": 4,
 "nbformat_minor": 2
}
