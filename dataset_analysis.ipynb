{
 "cells": [
  {
   "cell_type": "code",
   "execution_count": 1,
   "metadata": {},
   "outputs": [],
   "source": [
    "import pandas as pd\n",
    "from src.dimension_modeler import Dimension_Modeler\n",
    "from src.util import update_start_date, quick_merge"
   ]
  },
  {
   "cell_type": "markdown",
   "metadata": {},
   "source": [
    "### FACT TRANSACTIONS\n",
    "- transaction_key (int) PK (Surrogate Key)\n",
    "- transaction_id (int) (Natural Key) DONE\n",
    "- employee_id (int) FK to dim_employees DONE\n",
    "- product_key (int) FK to dim_products DONE\n",
    "- date_id (int) FK to dim_dates DONE\n",
    "- promotion_id (int) FK to dim_promotions DONE\n",
    "- payment_method_id (int) FK to dim_payment_methods DONE\n",
    "- quantity (int) DONE\n",
    "- discount_amount (decimal 10,2) DONE\n",
    "- subtotal_amount (decimal 10,2) DONE\n",
    "- tax_amount (decimal 10,2) DONE\n",
    "- total_sale_amount (decimal 10,2) DONE"
   ]
  },
  {
   "cell_type": "code",
   "execution_count": 2,
   "metadata": {},
   "outputs": [],
   "source": [
    "transactions_df = pd.read_csv('datasets/donut_shop_transactions.csv')"
   ]
  },
  {
   "cell_type": "code",
   "execution_count": null,
   "metadata": {},
   "outputs": [
    {
     "name": "stdout",
     "output_type": "stream",
     "text": [
      "fact_transactions.csv created in datasets/dimensions/\n"
     ]
    }
   ],
   "source": [
    "# dim_transactions = Dimension_Modeler(transactions_df)\n",
    "# # doing this because I have to restart the interpreter and don't want to run the code to add natural key again\n",
    "# dim_transactions.make_csv('fact_transactions')"
   ]
  },
  {
   "cell_type": "markdown",
   "metadata": {},
   "source": [
    "#### Transaction id (natrual key)"
   ]
  },
  {
   "cell_type": "code",
   "execution_count": 3,
   "metadata": {},
   "outputs": [],
   "source": [
    "grouped_df = transactions_df.groupby('Date', group_keys=False)\n",
    "id_counter = 100"
   ]
  },
  {
   "cell_type": "code",
   "execution_count": 4,
   "metadata": {},
   "outputs": [],
   "source": [
    "df_list = []\n",
    "for name, _ in grouped_df:\n",
    "    current_df = grouped_df.get_group(name).copy()\n",
    "    current_df['transaction_id'] = id_counter\n",
    "    id_counter += 1\n",
    "    df_list.append(current_df)\n",
    "    \n",
    "transactions_df = pd.concat(df_list)"
   ]
  },
  {
   "cell_type": "markdown",
   "metadata": {},
   "source": [
    "#### Employee ID\n"
   ]
  },
  {
   "cell_type": "code",
   "execution_count": 6,
   "metadata": {},
   "outputs": [],
   "source": [
    "employee_df = pd.read_csv('datasets/fact_dimensions_models/dim_employees.csv')"
   ]
  },
  {
   "cell_type": "code",
   "execution_count": 7,
   "metadata": {},
   "outputs": [],
   "source": [
    "transactions_df = quick_merge(transactions_df, employee_df, 'left', 'Employee Name', 'employee_name')"
   ]
  },
  {
   "cell_type": "code",
   "execution_count": 8,
   "metadata": {},
   "outputs": [],
   "source": [
    "transactions_df.drop(columns=['Employee Name', 'job_title', 'employee_name'], inplace=True)"
   ]
  },
  {
   "cell_type": "code",
   "execution_count": 9,
   "metadata": {},
   "outputs": [
    {
     "data": {
      "text/html": [
       "<div>\n",
       "<style scoped>\n",
       "    .dataframe tbody tr th:only-of-type {\n",
       "        vertical-align: middle;\n",
       "    }\n",
       "\n",
       "    .dataframe tbody tr th {\n",
       "        vertical-align: top;\n",
       "    }\n",
       "\n",
       "    .dataframe thead th {\n",
       "        text-align: right;\n",
       "    }\n",
       "</style>\n",
       "<table border=\"1\" class=\"dataframe\">\n",
       "  <thead>\n",
       "    <tr style=\"text-align: right;\">\n",
       "      <th></th>\n",
       "      <th>Product Name</th>\n",
       "      <th>Category</th>\n",
       "      <th>Date</th>\n",
       "      <th>Subtotal</th>\n",
       "      <th>Tax Amount</th>\n",
       "      <th>Total Amount</th>\n",
       "      <th>Payment Method</th>\n",
       "      <th>Discount Amount</th>\n",
       "      <th>Promo Name</th>\n",
       "      <th>Quantity</th>\n",
       "      <th>Price per Unit</th>\n",
       "      <th>transaction_id</th>\n",
       "      <th>employee_id</th>\n",
       "    </tr>\n",
       "  </thead>\n",
       "  <tbody>\n",
       "    <tr>\n",
       "      <th>0</th>\n",
       "      <td>Starbucks Mocha</td>\n",
       "      <td>Drinks</td>\n",
       "      <td>2015-01-01 00:56:32</td>\n",
       "      <td>5.00</td>\n",
       "      <td>0.31</td>\n",
       "      <td>5.31</td>\n",
       "      <td>Card</td>\n",
       "      <td>0.0</td>\n",
       "      <td>BOGO</td>\n",
       "      <td>4</td>\n",
       "      <td>1.25</td>\n",
       "      <td>100</td>\n",
       "      <td>4</td>\n",
       "    </tr>\n",
       "    <tr>\n",
       "      <th>1</th>\n",
       "      <td>Coffee</td>\n",
       "      <td>Drinks</td>\n",
       "      <td>2015-01-01 00:56:32</td>\n",
       "      <td>2.50</td>\n",
       "      <td>0.16</td>\n",
       "      <td>2.66</td>\n",
       "      <td>Card</td>\n",
       "      <td>0.0</td>\n",
       "      <td>BOGO</td>\n",
       "      <td>2</td>\n",
       "      <td>1.25</td>\n",
       "      <td>100</td>\n",
       "      <td>4</td>\n",
       "    </tr>\n",
       "    <tr>\n",
       "      <th>2</th>\n",
       "      <td>Starbucks Caramel</td>\n",
       "      <td>Drinks</td>\n",
       "      <td>2015-01-01 00:56:32</td>\n",
       "      <td>3.75</td>\n",
       "      <td>0.23</td>\n",
       "      <td>3.98</td>\n",
       "      <td>Card</td>\n",
       "      <td>0.0</td>\n",
       "      <td>BOGO</td>\n",
       "      <td>3</td>\n",
       "      <td>1.25</td>\n",
       "      <td>100</td>\n",
       "      <td>4</td>\n",
       "    </tr>\n",
       "    <tr>\n",
       "      <th>3</th>\n",
       "      <td>Redbull</td>\n",
       "      <td>Drinks</td>\n",
       "      <td>2015-01-01 00:56:32</td>\n",
       "      <td>3.75</td>\n",
       "      <td>0.23</td>\n",
       "      <td>3.98</td>\n",
       "      <td>Card</td>\n",
       "      <td>0.0</td>\n",
       "      <td>BOGO</td>\n",
       "      <td>3</td>\n",
       "      <td>1.25</td>\n",
       "      <td>100</td>\n",
       "      <td>4</td>\n",
       "    </tr>\n",
       "    <tr>\n",
       "      <th>4</th>\n",
       "      <td>Strawberry</td>\n",
       "      <td>Donut</td>\n",
       "      <td>2015-01-01 01:35:44</td>\n",
       "      <td>1.00</td>\n",
       "      <td>0.06</td>\n",
       "      <td>1.06</td>\n",
       "      <td>Card</td>\n",
       "      <td>0.0</td>\n",
       "      <td>NaN</td>\n",
       "      <td>2</td>\n",
       "      <td>0.50</td>\n",
       "      <td>101</td>\n",
       "      <td>4</td>\n",
       "    </tr>\n",
       "  </tbody>\n",
       "</table>\n",
       "</div>"
      ],
      "text/plain": [
       "        Product Name Category                 Date  Subtotal  Tax Amount  \\\n",
       "0    Starbucks Mocha   Drinks  2015-01-01 00:56:32      5.00        0.31   \n",
       "1             Coffee   Drinks  2015-01-01 00:56:32      2.50        0.16   \n",
       "2  Starbucks Caramel   Drinks  2015-01-01 00:56:32      3.75        0.23   \n",
       "3            Redbull   Drinks  2015-01-01 00:56:32      3.75        0.23   \n",
       "4         Strawberry    Donut  2015-01-01 01:35:44      1.00        0.06   \n",
       "\n",
       "   Total Amount Payment Method  Discount Amount Promo Name  Quantity  \\\n",
       "0          5.31           Card              0.0       BOGO         4   \n",
       "1          2.66           Card              0.0       BOGO         2   \n",
       "2          3.98           Card              0.0       BOGO         3   \n",
       "3          3.98           Card              0.0       BOGO         3   \n",
       "4          1.06           Card              0.0        NaN         2   \n",
       "\n",
       "   Price per Unit  transaction_id  employee_id  \n",
       "0            1.25             100            4  \n",
       "1            1.25             100            4  \n",
       "2            1.25             100            4  \n",
       "3            1.25             100            4  \n",
       "4            0.50             101            4  "
      ]
     },
     "execution_count": 9,
     "metadata": {},
     "output_type": "execute_result"
    }
   ],
   "source": [
    "transactions_df.head()"
   ]
  },
  {
   "cell_type": "code",
   "execution_count": 22,
   "metadata": {},
   "outputs": [
    {
     "data": {
      "text/plain": [
       "transaction_id  Date               \n",
       "100             2015-01-01 00:56:32    4\n",
       "101             2015-01-01 01:35:44    1\n",
       "102             2015-01-01 01:41:45    2\n",
       "103             2015-01-01 01:50:21    1\n",
       "104             2015-01-01 02:04:55    4\n",
       "                                      ..\n",
       "251959          2024-12-31 22:46:18    5\n",
       "251960          2024-12-31 22:53:09    3\n",
       "251961          2024-12-31 23:03:42    5\n",
       "251962          2024-12-31 23:40:26    5\n",
       "251963          2024-12-31 23:53:27    4\n",
       "Name: count, Length: 251864, dtype: int64"
      ]
     },
     "execution_count": 22,
     "metadata": {},
     "output_type": "execute_result"
    }
   ],
   "source": [
    "transactions_df.groupby('transaction_id')['Date'].value_counts()"
   ]
  },
  {
   "cell_type": "code",
   "execution_count": 23,
   "metadata": {},
   "outputs": [
    {
     "data": {
      "text/plain": [
       "251963"
      ]
     },
     "execution_count": 23,
     "metadata": {},
     "output_type": "execute_result"
    }
   ],
   "source": [
    "transactions_df['transaction_id'].max()"
   ]
  },
  {
   "cell_type": "markdown",
   "metadata": {},
   "source": [
    "#### Product Key"
   ]
  },
  {
   "cell_type": "code",
   "execution_count": 10,
   "metadata": {},
   "outputs": [],
   "source": [
    "products_df = pd.read_csv('datasets/fact_dimensions_models/dim_products.csv')"
   ]
  },
  {
   "cell_type": "code",
   "execution_count": 11,
   "metadata": {},
   "outputs": [
    {
     "data": {
      "text/html": [
       "<div>\n",
       "<style scoped>\n",
       "    .dataframe tbody tr th:only-of-type {\n",
       "        vertical-align: middle;\n",
       "    }\n",
       "\n",
       "    .dataframe tbody tr th {\n",
       "        vertical-align: top;\n",
       "    }\n",
       "\n",
       "    .dataframe thead th {\n",
       "        text-align: right;\n",
       "    }\n",
       "</style>\n",
       "<table border=\"1\" class=\"dataframe\">\n",
       "  <thead>\n",
       "    <tr style=\"text-align: right;\">\n",
       "      <th></th>\n",
       "      <th>product_key</th>\n",
       "      <th>product_id</th>\n",
       "      <th>product_name</th>\n",
       "      <th>product_category</th>\n",
       "      <th>product_price</th>\n",
       "      <th>product_cost</th>\n",
       "      <th>start_date</th>\n",
       "      <th>end_date</th>\n",
       "      <th>is_current</th>\n",
       "    </tr>\n",
       "  </thead>\n",
       "  <tbody>\n",
       "    <tr>\n",
       "      <th>44</th>\n",
       "      <td>30</td>\n",
       "      <td>122</td>\n",
       "      <td>Sprite</td>\n",
       "      <td>Drinks</td>\n",
       "      <td>2.00</td>\n",
       "      <td>1.15</td>\n",
       "      <td>2019-12-31 23:49:08</td>\n",
       "      <td>2262-04-11 23:47:16</td>\n",
       "      <td>True</td>\n",
       "    </tr>\n",
       "    <tr>\n",
       "      <th>45</th>\n",
       "      <td>38</td>\n",
       "      <td>122</td>\n",
       "      <td>Sprite</td>\n",
       "      <td>Drinks</td>\n",
       "      <td>1.25</td>\n",
       "      <td>1.00</td>\n",
       "      <td>2015-01-01 00:56:32</td>\n",
       "      <td>2019-12-31 23:49:08</td>\n",
       "      <td>False</td>\n",
       "    </tr>\n",
       "    <tr>\n",
       "      <th>46</th>\n",
       "      <td>32</td>\n",
       "      <td>123</td>\n",
       "      <td>Starbucks Caramel</td>\n",
       "      <td>Drinks</td>\n",
       "      <td>2.00</td>\n",
       "      <td>1.15</td>\n",
       "      <td>2019-12-31 23:49:08</td>\n",
       "      <td>2262-04-11 23:47:16</td>\n",
       "      <td>True</td>\n",
       "    </tr>\n",
       "    <tr>\n",
       "      <th>47</th>\n",
       "      <td>40</td>\n",
       "      <td>123</td>\n",
       "      <td>Starbucks Caramel</td>\n",
       "      <td>Drinks</td>\n",
       "      <td>1.25</td>\n",
       "      <td>1.00</td>\n",
       "      <td>2015-01-01 00:56:32</td>\n",
       "      <td>2019-12-31 23:49:08</td>\n",
       "      <td>False</td>\n",
       "    </tr>\n",
       "    <tr>\n",
       "      <th>48</th>\n",
       "      <td>35</td>\n",
       "      <td>124</td>\n",
       "      <td>Starbucks Mocha</td>\n",
       "      <td>Drinks</td>\n",
       "      <td>2.00</td>\n",
       "      <td>1.15</td>\n",
       "      <td>2019-12-31 23:49:08</td>\n",
       "      <td>2262-04-11 23:47:16</td>\n",
       "      <td>True</td>\n",
       "    </tr>\n",
       "    <tr>\n",
       "      <th>49</th>\n",
       "      <td>43</td>\n",
       "      <td>124</td>\n",
       "      <td>Starbucks Mocha</td>\n",
       "      <td>Drinks</td>\n",
       "      <td>1.25</td>\n",
       "      <td>1.00</td>\n",
       "      <td>2015-01-01 00:56:32</td>\n",
       "      <td>2019-12-31 23:49:08</td>\n",
       "      <td>False</td>\n",
       "    </tr>\n",
       "    <tr>\n",
       "      <th>50</th>\n",
       "      <td>13</td>\n",
       "      <td>125</td>\n",
       "      <td>Strawberry</td>\n",
       "      <td>Donut</td>\n",
       "      <td>1.00</td>\n",
       "      <td>0.10</td>\n",
       "      <td>2019-12-31 23:49:08</td>\n",
       "      <td>2262-04-11 23:47:16</td>\n",
       "      <td>True</td>\n",
       "    </tr>\n",
       "    <tr>\n",
       "      <th>51</th>\n",
       "      <td>27</td>\n",
       "      <td>125</td>\n",
       "      <td>Strawberry</td>\n",
       "      <td>Donut</td>\n",
       "      <td>0.50</td>\n",
       "      <td>0.10</td>\n",
       "      <td>2015-01-01 01:35:44</td>\n",
       "      <td>2019-12-31 23:49:08</td>\n",
       "      <td>False</td>\n",
       "    </tr>\n",
       "    <tr>\n",
       "      <th>52</th>\n",
       "      <td>31</td>\n",
       "      <td>126</td>\n",
       "      <td>Tropicana</td>\n",
       "      <td>Drinks</td>\n",
       "      <td>2.00</td>\n",
       "      <td>1.15</td>\n",
       "      <td>2019-12-31 23:49:08</td>\n",
       "      <td>2262-04-11 23:47:16</td>\n",
       "      <td>True</td>\n",
       "    </tr>\n",
       "    <tr>\n",
       "      <th>53</th>\n",
       "      <td>39</td>\n",
       "      <td>126</td>\n",
       "      <td>Tropicana</td>\n",
       "      <td>Drinks</td>\n",
       "      <td>1.25</td>\n",
       "      <td>1.00</td>\n",
       "      <td>2015-01-01 00:56:32</td>\n",
       "      <td>2019-12-31 23:49:08</td>\n",
       "      <td>False</td>\n",
       "    </tr>\n",
       "  </tbody>\n",
       "</table>\n",
       "</div>"
      ],
      "text/plain": [
       "    product_key  product_id       product_name product_category  \\\n",
       "44           30         122             Sprite           Drinks   \n",
       "45           38         122             Sprite           Drinks   \n",
       "46           32         123  Starbucks Caramel           Drinks   \n",
       "47           40         123  Starbucks Caramel           Drinks   \n",
       "48           35         124    Starbucks Mocha           Drinks   \n",
       "49           43         124    Starbucks Mocha           Drinks   \n",
       "50           13         125         Strawberry            Donut   \n",
       "51           27         125         Strawberry            Donut   \n",
       "52           31         126          Tropicana           Drinks   \n",
       "53           39         126          Tropicana           Drinks   \n",
       "\n",
       "    product_price  product_cost           start_date             end_date  \\\n",
       "44           2.00          1.15  2019-12-31 23:49:08  2262-04-11 23:47:16   \n",
       "45           1.25          1.00  2015-01-01 00:56:32  2019-12-31 23:49:08   \n",
       "46           2.00          1.15  2019-12-31 23:49:08  2262-04-11 23:47:16   \n",
       "47           1.25          1.00  2015-01-01 00:56:32  2019-12-31 23:49:08   \n",
       "48           2.00          1.15  2019-12-31 23:49:08  2262-04-11 23:47:16   \n",
       "49           1.25          1.00  2015-01-01 00:56:32  2019-12-31 23:49:08   \n",
       "50           1.00          0.10  2019-12-31 23:49:08  2262-04-11 23:47:16   \n",
       "51           0.50          0.10  2015-01-01 01:35:44  2019-12-31 23:49:08   \n",
       "52           2.00          1.15  2019-12-31 23:49:08  2262-04-11 23:47:16   \n",
       "53           1.25          1.00  2015-01-01 00:56:32  2019-12-31 23:49:08   \n",
       "\n",
       "    is_current  \n",
       "44        True  \n",
       "45       False  \n",
       "46        True  \n",
       "47       False  \n",
       "48        True  \n",
       "49       False  \n",
       "50        True  \n",
       "51       False  \n",
       "52        True  \n",
       "53       False  "
      ]
     },
     "execution_count": 11,
     "metadata": {},
     "output_type": "execute_result"
    }
   ],
   "source": [
    "products_df.tail(10)\n"
   ]
  },
  {
   "cell_type": "code",
   "execution_count": 12,
   "metadata": {},
   "outputs": [],
   "source": [
    "transactions_df = quick_merge(transactions_df, products_df, 'inner', ['Product Name', 'Price per Unit'], ['product_name', 'product_price'])"
   ]
  },
  {
   "cell_type": "code",
   "execution_count": 13,
   "metadata": {},
   "outputs": [
    {
     "data": {
      "text/plain": [
       "product_key\n",
       "5     17626\n",
       "19    10656\n",
       "Name: count, dtype: int64"
      ]
     },
     "execution_count": 13,
     "metadata": {},
     "output_type": "execute_result"
    }
   ],
   "source": [
    "# spot checking to make sure it worked. \n",
    "transactions_df.loc[transactions_df['Product Name'] == 'Chocolate']['product_key'].value_counts()"
   ]
  },
  {
   "cell_type": "code",
   "execution_count": 14,
   "metadata": {},
   "outputs": [
    {
     "data": {
      "text/plain": [
       "Index(['Product Name', 'Category', 'Date', 'Subtotal', 'Tax Amount',\n",
       "       'Total Amount', 'Payment Method', 'Discount Amount', 'Promo Name',\n",
       "       'Quantity', 'Price per Unit', 'transaction_id', 'employee_id',\n",
       "       'product_key', 'product_id', 'product_name', 'product_category',\n",
       "       'product_price', 'product_cost', 'start_date', 'end_date',\n",
       "       'is_current'],\n",
       "      dtype='object')"
      ]
     },
     "execution_count": 14,
     "metadata": {},
     "output_type": "execute_result"
    }
   ],
   "source": [
    "transactions_df.columns"
   ]
  },
  {
   "cell_type": "code",
   "execution_count": 15,
   "metadata": {},
   "outputs": [],
   "source": [
    "transactions_df.drop(columns=['product_id', 'product_name', 'product_category', 'start_date', 'end_date', 'Product Name', 'Category', 'Price per Unit', 'product_cost', 'is_current'], inplace=True)"
   ]
  },
  {
   "cell_type": "code",
   "execution_count": 16,
   "metadata": {},
   "outputs": [
    {
     "data": {
      "text/html": [
       "<div>\n",
       "<style scoped>\n",
       "    .dataframe tbody tr th:only-of-type {\n",
       "        vertical-align: middle;\n",
       "    }\n",
       "\n",
       "    .dataframe tbody tr th {\n",
       "        vertical-align: top;\n",
       "    }\n",
       "\n",
       "    .dataframe thead th {\n",
       "        text-align: right;\n",
       "    }\n",
       "</style>\n",
       "<table border=\"1\" class=\"dataframe\">\n",
       "  <thead>\n",
       "    <tr style=\"text-align: right;\">\n",
       "      <th></th>\n",
       "      <th>Date</th>\n",
       "      <th>Subtotal</th>\n",
       "      <th>Tax Amount</th>\n",
       "      <th>Total Amount</th>\n",
       "      <th>Payment Method</th>\n",
       "      <th>Discount Amount</th>\n",
       "      <th>Promo Name</th>\n",
       "      <th>Quantity</th>\n",
       "      <th>transaction_id</th>\n",
       "      <th>employee_id</th>\n",
       "      <th>product_key</th>\n",
       "      <th>product_price</th>\n",
       "    </tr>\n",
       "  </thead>\n",
       "  <tbody>\n",
       "    <tr>\n",
       "      <th>0</th>\n",
       "      <td>2015-01-01 00:56:32</td>\n",
       "      <td>5.00</td>\n",
       "      <td>0.31</td>\n",
       "      <td>5.31</td>\n",
       "      <td>Card</td>\n",
       "      <td>0.00</td>\n",
       "      <td>BOGO</td>\n",
       "      <td>4</td>\n",
       "      <td>100</td>\n",
       "      <td>4</td>\n",
       "      <td>43</td>\n",
       "      <td>1.25</td>\n",
       "    </tr>\n",
       "    <tr>\n",
       "      <th>1</th>\n",
       "      <td>2015-01-01 07:42:43</td>\n",
       "      <td>1.88</td>\n",
       "      <td>0.12</td>\n",
       "      <td>1.99</td>\n",
       "      <td>Card</td>\n",
       "      <td>1.88</td>\n",
       "      <td>WINTER SPECIAL</td>\n",
       "      <td>3</td>\n",
       "      <td>110</td>\n",
       "      <td>2</td>\n",
       "      <td>43</td>\n",
       "      <td>1.25</td>\n",
       "    </tr>\n",
       "    <tr>\n",
       "      <th>2</th>\n",
       "      <td>2015-01-02 18:00:33</td>\n",
       "      <td>2.50</td>\n",
       "      <td>0.16</td>\n",
       "      <td>2.66</td>\n",
       "      <td>Card</td>\n",
       "      <td>0.00</td>\n",
       "      <td>NaN</td>\n",
       "      <td>2</td>\n",
       "      <td>171</td>\n",
       "      <td>1</td>\n",
       "      <td>43</td>\n",
       "      <td>1.25</td>\n",
       "    </tr>\n",
       "    <tr>\n",
       "      <th>3</th>\n",
       "      <td>2015-01-03 06:38:16</td>\n",
       "      <td>1.88</td>\n",
       "      <td>0.12</td>\n",
       "      <td>1.99</td>\n",
       "      <td>Cash</td>\n",
       "      <td>1.88</td>\n",
       "      <td>WINTER SPECIAL</td>\n",
       "      <td>3</td>\n",
       "      <td>196</td>\n",
       "      <td>5</td>\n",
       "      <td>43</td>\n",
       "      <td>1.25</td>\n",
       "    </tr>\n",
       "    <tr>\n",
       "      <th>4</th>\n",
       "      <td>2015-01-03 08:01:45</td>\n",
       "      <td>1.25</td>\n",
       "      <td>0.08</td>\n",
       "      <td>1.33</td>\n",
       "      <td>Cash</td>\n",
       "      <td>0.00</td>\n",
       "      <td>BOGO</td>\n",
       "      <td>1</td>\n",
       "      <td>199</td>\n",
       "      <td>3</td>\n",
       "      <td>43</td>\n",
       "      <td>1.25</td>\n",
       "    </tr>\n",
       "  </tbody>\n",
       "</table>\n",
       "</div>"
      ],
      "text/plain": [
       "                  Date  Subtotal  Tax Amount  Total Amount Payment Method  \\\n",
       "0  2015-01-01 00:56:32      5.00        0.31          5.31           Card   \n",
       "1  2015-01-01 07:42:43      1.88        0.12          1.99           Card   \n",
       "2  2015-01-02 18:00:33      2.50        0.16          2.66           Card   \n",
       "3  2015-01-03 06:38:16      1.88        0.12          1.99           Cash   \n",
       "4  2015-01-03 08:01:45      1.25        0.08          1.33           Cash   \n",
       "\n",
       "   Discount Amount      Promo Name  Quantity  transaction_id  employee_id  \\\n",
       "0             0.00            BOGO         4             100            4   \n",
       "1             1.88  WINTER SPECIAL         3             110            2   \n",
       "2             0.00             NaN         2             171            1   \n",
       "3             1.88  WINTER SPECIAL         3             196            5   \n",
       "4             0.00            BOGO         1             199            3   \n",
       "\n",
       "   product_key  product_price  \n",
       "0           43           1.25  \n",
       "1           43           1.25  \n",
       "2           43           1.25  \n",
       "3           43           1.25  \n",
       "4           43           1.25  "
      ]
     },
     "execution_count": 16,
     "metadata": {},
     "output_type": "execute_result"
    }
   ],
   "source": [
    "transactions_df.head()"
   ]
  },
  {
   "cell_type": "markdown",
   "metadata": {},
   "source": [
    "#### DATE ID"
   ]
  },
  {
   "cell_type": "code",
   "execution_count": 17,
   "metadata": {},
   "outputs": [
    {
     "data": {
      "text/html": [
       "<div>\n",
       "<style scoped>\n",
       "    .dataframe tbody tr th:only-of-type {\n",
       "        vertical-align: middle;\n",
       "    }\n",
       "\n",
       "    .dataframe tbody tr th {\n",
       "        vertical-align: top;\n",
       "    }\n",
       "\n",
       "    .dataframe thead th {\n",
       "        text-align: right;\n",
       "    }\n",
       "</style>\n",
       "<table border=\"1\" class=\"dataframe\">\n",
       "  <thead>\n",
       "    <tr style=\"text-align: right;\">\n",
       "      <th></th>\n",
       "      <th>Date</th>\n",
       "      <th>Subtotal</th>\n",
       "      <th>Tax Amount</th>\n",
       "      <th>Total Amount</th>\n",
       "      <th>Payment Method</th>\n",
       "      <th>Discount Amount</th>\n",
       "      <th>Promo Name</th>\n",
       "      <th>Quantity</th>\n",
       "      <th>transaction_id</th>\n",
       "      <th>employee_id</th>\n",
       "      <th>product_key</th>\n",
       "      <th>product_price</th>\n",
       "    </tr>\n",
       "  </thead>\n",
       "  <tbody>\n",
       "    <tr>\n",
       "      <th>0</th>\n",
       "      <td>2015-01-01 00:56:32</td>\n",
       "      <td>5.00</td>\n",
       "      <td>0.31</td>\n",
       "      <td>5.31</td>\n",
       "      <td>Card</td>\n",
       "      <td>0.00</td>\n",
       "      <td>BOGO</td>\n",
       "      <td>4</td>\n",
       "      <td>100</td>\n",
       "      <td>4</td>\n",
       "      <td>43</td>\n",
       "      <td>1.25</td>\n",
       "    </tr>\n",
       "    <tr>\n",
       "      <th>1</th>\n",
       "      <td>2015-01-01 07:42:43</td>\n",
       "      <td>1.88</td>\n",
       "      <td>0.12</td>\n",
       "      <td>1.99</td>\n",
       "      <td>Card</td>\n",
       "      <td>1.88</td>\n",
       "      <td>WINTER SPECIAL</td>\n",
       "      <td>3</td>\n",
       "      <td>110</td>\n",
       "      <td>2</td>\n",
       "      <td>43</td>\n",
       "      <td>1.25</td>\n",
       "    </tr>\n",
       "    <tr>\n",
       "      <th>2</th>\n",
       "      <td>2015-01-02 18:00:33</td>\n",
       "      <td>2.50</td>\n",
       "      <td>0.16</td>\n",
       "      <td>2.66</td>\n",
       "      <td>Card</td>\n",
       "      <td>0.00</td>\n",
       "      <td>NaN</td>\n",
       "      <td>2</td>\n",
       "      <td>171</td>\n",
       "      <td>1</td>\n",
       "      <td>43</td>\n",
       "      <td>1.25</td>\n",
       "    </tr>\n",
       "    <tr>\n",
       "      <th>3</th>\n",
       "      <td>2015-01-03 06:38:16</td>\n",
       "      <td>1.88</td>\n",
       "      <td>0.12</td>\n",
       "      <td>1.99</td>\n",
       "      <td>Cash</td>\n",
       "      <td>1.88</td>\n",
       "      <td>WINTER SPECIAL</td>\n",
       "      <td>3</td>\n",
       "      <td>196</td>\n",
       "      <td>5</td>\n",
       "      <td>43</td>\n",
       "      <td>1.25</td>\n",
       "    </tr>\n",
       "    <tr>\n",
       "      <th>4</th>\n",
       "      <td>2015-01-03 08:01:45</td>\n",
       "      <td>1.25</td>\n",
       "      <td>0.08</td>\n",
       "      <td>1.33</td>\n",
       "      <td>Cash</td>\n",
       "      <td>0.00</td>\n",
       "      <td>BOGO</td>\n",
       "      <td>1</td>\n",
       "      <td>199</td>\n",
       "      <td>3</td>\n",
       "      <td>43</td>\n",
       "      <td>1.25</td>\n",
       "    </tr>\n",
       "  </tbody>\n",
       "</table>\n",
       "</div>"
      ],
      "text/plain": [
       "                  Date  Subtotal  Tax Amount  Total Amount Payment Method  \\\n",
       "0  2015-01-01 00:56:32      5.00        0.31          5.31           Card   \n",
       "1  2015-01-01 07:42:43      1.88        0.12          1.99           Card   \n",
       "2  2015-01-02 18:00:33      2.50        0.16          2.66           Card   \n",
       "3  2015-01-03 06:38:16      1.88        0.12          1.99           Cash   \n",
       "4  2015-01-03 08:01:45      1.25        0.08          1.33           Cash   \n",
       "\n",
       "   Discount Amount      Promo Name  Quantity  transaction_id  employee_id  \\\n",
       "0             0.00            BOGO         4             100            4   \n",
       "1             1.88  WINTER SPECIAL         3             110            2   \n",
       "2             0.00             NaN         2             171            1   \n",
       "3             1.88  WINTER SPECIAL         3             196            5   \n",
       "4             0.00            BOGO         1             199            3   \n",
       "\n",
       "   product_key  product_price  \n",
       "0           43           1.25  \n",
       "1           43           1.25  \n",
       "2           43           1.25  \n",
       "3           43           1.25  \n",
       "4           43           1.25  "
      ]
     },
     "execution_count": 17,
     "metadata": {},
     "output_type": "execute_result"
    }
   ],
   "source": [
    "transactions_df.head()\n"
   ]
  },
  {
   "cell_type": "code",
   "execution_count": 24,
   "metadata": {},
   "outputs": [],
   "source": [
    "transactions_df['Date'] = pd.to_datetime(transactions_df['Date'])\n",
    "transactions_df['date_raw'] = transactions_df['Date'].dt.strftime('%y-%m-%d')\n",
    "transactions_df['date_raw'] = pd.to_datetime(transactions_df['date_raw'], format='%y-%m-%d')\n",
    "transactions_df['date_id'] = transactions_df['date_raw'].dt.year.astype(str) + transactions_df['date_raw'].dt.month.astype(str).str.zfill(2) + transactions_df['date_raw'].dt.day.astype(str).str.zfill(2)\n",
    "transactions_df['date_id'] = transactions_df['date_id'].astype(int)"
   ]
  },
  {
   "cell_type": "code",
   "execution_count": 25,
   "metadata": {},
   "outputs": [
    {
     "data": {
      "text/html": [
       "<div>\n",
       "<style scoped>\n",
       "    .dataframe tbody tr th:only-of-type {\n",
       "        vertical-align: middle;\n",
       "    }\n",
       "\n",
       "    .dataframe tbody tr th {\n",
       "        vertical-align: top;\n",
       "    }\n",
       "\n",
       "    .dataframe thead th {\n",
       "        text-align: right;\n",
       "    }\n",
       "</style>\n",
       "<table border=\"1\" class=\"dataframe\">\n",
       "  <thead>\n",
       "    <tr style=\"text-align: right;\">\n",
       "      <th></th>\n",
       "      <th>Date</th>\n",
       "      <th>Subtotal</th>\n",
       "      <th>Tax Amount</th>\n",
       "      <th>Total Amount</th>\n",
       "      <th>Payment Method</th>\n",
       "      <th>Discount Amount</th>\n",
       "      <th>Promo Name</th>\n",
       "      <th>Quantity</th>\n",
       "      <th>transaction_id</th>\n",
       "      <th>employee_id</th>\n",
       "      <th>product_key</th>\n",
       "      <th>product_price</th>\n",
       "      <th>date_raw</th>\n",
       "      <th>date_id</th>\n",
       "    </tr>\n",
       "  </thead>\n",
       "  <tbody>\n",
       "    <tr>\n",
       "      <th>0</th>\n",
       "      <td>2015-01-01 00:56:32</td>\n",
       "      <td>5.00</td>\n",
       "      <td>0.31</td>\n",
       "      <td>5.31</td>\n",
       "      <td>Card</td>\n",
       "      <td>0.00</td>\n",
       "      <td>BOGO</td>\n",
       "      <td>4</td>\n",
       "      <td>100</td>\n",
       "      <td>4</td>\n",
       "      <td>43</td>\n",
       "      <td>1.25</td>\n",
       "      <td>2015-01-01</td>\n",
       "      <td>20150101</td>\n",
       "    </tr>\n",
       "    <tr>\n",
       "      <th>1</th>\n",
       "      <td>2015-01-01 07:42:43</td>\n",
       "      <td>1.88</td>\n",
       "      <td>0.12</td>\n",
       "      <td>1.99</td>\n",
       "      <td>Card</td>\n",
       "      <td>1.88</td>\n",
       "      <td>WINTER SPECIAL</td>\n",
       "      <td>3</td>\n",
       "      <td>110</td>\n",
       "      <td>2</td>\n",
       "      <td>43</td>\n",
       "      <td>1.25</td>\n",
       "      <td>2015-01-01</td>\n",
       "      <td>20150101</td>\n",
       "    </tr>\n",
       "    <tr>\n",
       "      <th>2</th>\n",
       "      <td>2015-01-02 18:00:33</td>\n",
       "      <td>2.50</td>\n",
       "      <td>0.16</td>\n",
       "      <td>2.66</td>\n",
       "      <td>Card</td>\n",
       "      <td>0.00</td>\n",
       "      <td>NaN</td>\n",
       "      <td>2</td>\n",
       "      <td>171</td>\n",
       "      <td>1</td>\n",
       "      <td>43</td>\n",
       "      <td>1.25</td>\n",
       "      <td>2015-01-02</td>\n",
       "      <td>20150102</td>\n",
       "    </tr>\n",
       "    <tr>\n",
       "      <th>3</th>\n",
       "      <td>2015-01-03 06:38:16</td>\n",
       "      <td>1.88</td>\n",
       "      <td>0.12</td>\n",
       "      <td>1.99</td>\n",
       "      <td>Cash</td>\n",
       "      <td>1.88</td>\n",
       "      <td>WINTER SPECIAL</td>\n",
       "      <td>3</td>\n",
       "      <td>196</td>\n",
       "      <td>5</td>\n",
       "      <td>43</td>\n",
       "      <td>1.25</td>\n",
       "      <td>2015-01-03</td>\n",
       "      <td>20150103</td>\n",
       "    </tr>\n",
       "    <tr>\n",
       "      <th>4</th>\n",
       "      <td>2015-01-03 08:01:45</td>\n",
       "      <td>1.25</td>\n",
       "      <td>0.08</td>\n",
       "      <td>1.33</td>\n",
       "      <td>Cash</td>\n",
       "      <td>0.00</td>\n",
       "      <td>BOGO</td>\n",
       "      <td>1</td>\n",
       "      <td>199</td>\n",
       "      <td>3</td>\n",
       "      <td>43</td>\n",
       "      <td>1.25</td>\n",
       "      <td>2015-01-03</td>\n",
       "      <td>20150103</td>\n",
       "    </tr>\n",
       "  </tbody>\n",
       "</table>\n",
       "</div>"
      ],
      "text/plain": [
       "                 Date  Subtotal  Tax Amount  Total Amount Payment Method  \\\n",
       "0 2015-01-01 00:56:32      5.00        0.31          5.31           Card   \n",
       "1 2015-01-01 07:42:43      1.88        0.12          1.99           Card   \n",
       "2 2015-01-02 18:00:33      2.50        0.16          2.66           Card   \n",
       "3 2015-01-03 06:38:16      1.88        0.12          1.99           Cash   \n",
       "4 2015-01-03 08:01:45      1.25        0.08          1.33           Cash   \n",
       "\n",
       "   Discount Amount      Promo Name  Quantity  transaction_id  employee_id  \\\n",
       "0             0.00            BOGO         4             100            4   \n",
       "1             1.88  WINTER SPECIAL         3             110            2   \n",
       "2             0.00             NaN         2             171            1   \n",
       "3             1.88  WINTER SPECIAL         3             196            5   \n",
       "4             0.00            BOGO         1             199            3   \n",
       "\n",
       "   product_key  product_price   date_raw   date_id  \n",
       "0           43           1.25 2015-01-01  20150101  \n",
       "1           43           1.25 2015-01-01  20150101  \n",
       "2           43           1.25 2015-01-02  20150102  \n",
       "3           43           1.25 2015-01-03  20150103  \n",
       "4           43           1.25 2015-01-03  20150103  "
      ]
     },
     "execution_count": 25,
     "metadata": {},
     "output_type": "execute_result"
    }
   ],
   "source": [
    "transactions_df.head()"
   ]
  },
  {
   "cell_type": "code",
   "execution_count": 26,
   "metadata": {},
   "outputs": [],
   "source": [
    "transactions_df.drop(columns=['Date', 'date_raw'], inplace=True)"
   ]
  },
  {
   "cell_type": "code",
   "execution_count": 27,
   "metadata": {},
   "outputs": [
    {
     "data": {
      "text/html": [
       "<div>\n",
       "<style scoped>\n",
       "    .dataframe tbody tr th:only-of-type {\n",
       "        vertical-align: middle;\n",
       "    }\n",
       "\n",
       "    .dataframe tbody tr th {\n",
       "        vertical-align: top;\n",
       "    }\n",
       "\n",
       "    .dataframe thead th {\n",
       "        text-align: right;\n",
       "    }\n",
       "</style>\n",
       "<table border=\"1\" class=\"dataframe\">\n",
       "  <thead>\n",
       "    <tr style=\"text-align: right;\">\n",
       "      <th></th>\n",
       "      <th>Subtotal</th>\n",
       "      <th>Tax Amount</th>\n",
       "      <th>Total Amount</th>\n",
       "      <th>Payment Method</th>\n",
       "      <th>Discount Amount</th>\n",
       "      <th>Promo Name</th>\n",
       "      <th>Quantity</th>\n",
       "      <th>transaction_id</th>\n",
       "      <th>employee_id</th>\n",
       "      <th>product_key</th>\n",
       "      <th>product_price</th>\n",
       "      <th>date_id</th>\n",
       "    </tr>\n",
       "  </thead>\n",
       "  <tbody>\n",
       "    <tr>\n",
       "      <th>0</th>\n",
       "      <td>5.00</td>\n",
       "      <td>0.31</td>\n",
       "      <td>5.31</td>\n",
       "      <td>Card</td>\n",
       "      <td>0.00</td>\n",
       "      <td>BOGO</td>\n",
       "      <td>4</td>\n",
       "      <td>100</td>\n",
       "      <td>4</td>\n",
       "      <td>43</td>\n",
       "      <td>1.25</td>\n",
       "      <td>20150101</td>\n",
       "    </tr>\n",
       "    <tr>\n",
       "      <th>1</th>\n",
       "      <td>1.88</td>\n",
       "      <td>0.12</td>\n",
       "      <td>1.99</td>\n",
       "      <td>Card</td>\n",
       "      <td>1.88</td>\n",
       "      <td>WINTER SPECIAL</td>\n",
       "      <td>3</td>\n",
       "      <td>110</td>\n",
       "      <td>2</td>\n",
       "      <td>43</td>\n",
       "      <td>1.25</td>\n",
       "      <td>20150101</td>\n",
       "    </tr>\n",
       "    <tr>\n",
       "      <th>2</th>\n",
       "      <td>2.50</td>\n",
       "      <td>0.16</td>\n",
       "      <td>2.66</td>\n",
       "      <td>Card</td>\n",
       "      <td>0.00</td>\n",
       "      <td>NaN</td>\n",
       "      <td>2</td>\n",
       "      <td>171</td>\n",
       "      <td>1</td>\n",
       "      <td>43</td>\n",
       "      <td>1.25</td>\n",
       "      <td>20150102</td>\n",
       "    </tr>\n",
       "    <tr>\n",
       "      <th>3</th>\n",
       "      <td>1.88</td>\n",
       "      <td>0.12</td>\n",
       "      <td>1.99</td>\n",
       "      <td>Cash</td>\n",
       "      <td>1.88</td>\n",
       "      <td>WINTER SPECIAL</td>\n",
       "      <td>3</td>\n",
       "      <td>196</td>\n",
       "      <td>5</td>\n",
       "      <td>43</td>\n",
       "      <td>1.25</td>\n",
       "      <td>20150103</td>\n",
       "    </tr>\n",
       "    <tr>\n",
       "      <th>4</th>\n",
       "      <td>1.25</td>\n",
       "      <td>0.08</td>\n",
       "      <td>1.33</td>\n",
       "      <td>Cash</td>\n",
       "      <td>0.00</td>\n",
       "      <td>BOGO</td>\n",
       "      <td>1</td>\n",
       "      <td>199</td>\n",
       "      <td>3</td>\n",
       "      <td>43</td>\n",
       "      <td>1.25</td>\n",
       "      <td>20150103</td>\n",
       "    </tr>\n",
       "  </tbody>\n",
       "</table>\n",
       "</div>"
      ],
      "text/plain": [
       "   Subtotal  Tax Amount  Total Amount Payment Method  Discount Amount  \\\n",
       "0      5.00        0.31          5.31           Card             0.00   \n",
       "1      1.88        0.12          1.99           Card             1.88   \n",
       "2      2.50        0.16          2.66           Card             0.00   \n",
       "3      1.88        0.12          1.99           Cash             1.88   \n",
       "4      1.25        0.08          1.33           Cash             0.00   \n",
       "\n",
       "       Promo Name  Quantity  transaction_id  employee_id  product_key  \\\n",
       "0            BOGO         4             100            4           43   \n",
       "1  WINTER SPECIAL         3             110            2           43   \n",
       "2             NaN         2             171            1           43   \n",
       "3  WINTER SPECIAL         3             196            5           43   \n",
       "4            BOGO         1             199            3           43   \n",
       "\n",
       "   product_price   date_id  \n",
       "0           1.25  20150101  \n",
       "1           1.25  20150101  \n",
       "2           1.25  20150102  \n",
       "3           1.25  20150103  \n",
       "4           1.25  20150103  "
      ]
     },
     "execution_count": 27,
     "metadata": {},
     "output_type": "execute_result"
    }
   ],
   "source": [
    "transactions_df.head()\n"
   ]
  },
  {
   "cell_type": "code",
   "execution_count": 28,
   "metadata": {},
   "outputs": [
    {
     "data": {
      "text/plain": [
       "(756135, 12)"
      ]
     },
     "execution_count": 28,
     "metadata": {},
     "output_type": "execute_result"
    }
   ],
   "source": [
    "transactions_df.shape"
   ]
  },
  {
   "cell_type": "markdown",
   "metadata": {},
   "source": [
    "#### Promotion ID\n"
   ]
  },
  {
   "cell_type": "code",
   "execution_count": 29,
   "metadata": {},
   "outputs": [
    {
     "data": {
      "text/plain": [
       "Promo Name\n",
       "BOGO              83971\n",
       "WINTER SPECIAL    19988\n",
       "Back to School     1440\n",
       "Name: count, dtype: int64"
      ]
     },
     "execution_count": 29,
     "metadata": {},
     "output_type": "execute_result"
    }
   ],
   "source": [
    "transactions_df['Promo Name'].value_counts()"
   ]
  },
  {
   "cell_type": "code",
   "execution_count": 30,
   "metadata": {},
   "outputs": [],
   "source": [
    "transactions_df['Promo Name'] = transactions_df['Promo Name'].str.upper()"
   ]
  },
  {
   "cell_type": "code",
   "execution_count": 31,
   "metadata": {},
   "outputs": [],
   "source": [
    "promotion_df = pd.read_csv('datasets/fact_dimensions_models/dim_promotions.csv')"
   ]
  },
  {
   "cell_type": "code",
   "execution_count": 32,
   "metadata": {},
   "outputs": [
    {
     "data": {
      "text/html": [
       "<div>\n",
       "<style scoped>\n",
       "    .dataframe tbody tr th:only-of-type {\n",
       "        vertical-align: middle;\n",
       "    }\n",
       "\n",
       "    .dataframe tbody tr th {\n",
       "        vertical-align: top;\n",
       "    }\n",
       "\n",
       "    .dataframe thead th {\n",
       "        text-align: right;\n",
       "    }\n",
       "</style>\n",
       "<table border=\"1\" class=\"dataframe\">\n",
       "  <thead>\n",
       "    <tr style=\"text-align: right;\">\n",
       "      <th></th>\n",
       "      <th>promotion_id</th>\n",
       "      <th>promotion_name</th>\n",
       "      <th>discount_percentage</th>\n",
       "      <th>description</th>\n",
       "    </tr>\n",
       "  </thead>\n",
       "  <tbody>\n",
       "    <tr>\n",
       "      <th>0</th>\n",
       "      <td>1</td>\n",
       "      <td>BOGO</td>\n",
       "      <td>0.50</td>\n",
       "      <td>Happens sporadically throughout the year, all ...</td>\n",
       "    </tr>\n",
       "    <tr>\n",
       "      <th>1</th>\n",
       "      <td>2</td>\n",
       "      <td>WINTER SPECIAL</td>\n",
       "      <td>0.50</td>\n",
       "      <td>During Dec, Jan, Feb, all products 50% off.</td>\n",
       "    </tr>\n",
       "    <tr>\n",
       "      <th>2</th>\n",
       "      <td>3</td>\n",
       "      <td>BACK TO SCHOOL</td>\n",
       "      <td>0.25</td>\n",
       "      <td>During first week of September, 25% off all pr...</td>\n",
       "    </tr>\n",
       "    <tr>\n",
       "      <th>3</th>\n",
       "      <td>4</td>\n",
       "      <td>NO PROMO</td>\n",
       "      <td>0.00</td>\n",
       "      <td>No promotion</td>\n",
       "    </tr>\n",
       "  </tbody>\n",
       "</table>\n",
       "</div>"
      ],
      "text/plain": [
       "   promotion_id  promotion_name  discount_percentage  \\\n",
       "0             1            BOGO                 0.50   \n",
       "1             2  WINTER SPECIAL                 0.50   \n",
       "2             3  BACK TO SCHOOL                 0.25   \n",
       "3             4        NO PROMO                 0.00   \n",
       "\n",
       "                                         description  \n",
       "0  Happens sporadically throughout the year, all ...  \n",
       "1       During Dec, Jan, Feb, all products 50% off.   \n",
       "2  During first week of September, 25% off all pr...  \n",
       "3                                       No promotion  "
      ]
     },
     "execution_count": 32,
     "metadata": {},
     "output_type": "execute_result"
    }
   ],
   "source": [
    "promotion_df"
   ]
  },
  {
   "cell_type": "code",
   "execution_count": 33,
   "metadata": {},
   "outputs": [
    {
     "data": {
      "text/plain": [
       "Subtotal                0\n",
       "Tax Amount              0\n",
       "Total Amount            0\n",
       "Payment Method          0\n",
       "Discount Amount         0\n",
       "Promo Name         650736\n",
       "Quantity                0\n",
       "transaction_id          0\n",
       "employee_id             0\n",
       "product_key             0\n",
       "product_price           0\n",
       "date_id                 0\n",
       "dtype: int64"
      ]
     },
     "execution_count": 33,
     "metadata": {},
     "output_type": "execute_result"
    }
   ],
   "source": [
    "transactions_df.isna().sum()"
   ]
  },
  {
   "cell_type": "code",
   "execution_count": 34,
   "metadata": {},
   "outputs": [],
   "source": [
    "transactions_df['Promo Name'] = transactions_df['Promo Name'].fillna('NO PROMO')"
   ]
  },
  {
   "cell_type": "code",
   "execution_count": 35,
   "metadata": {},
   "outputs": [
    {
     "data": {
      "text/plain": [
       "Subtotal           0\n",
       "Tax Amount         0\n",
       "Total Amount       0\n",
       "Payment Method     0\n",
       "Discount Amount    0\n",
       "Promo Name         0\n",
       "Quantity           0\n",
       "transaction_id     0\n",
       "employee_id        0\n",
       "product_key        0\n",
       "product_price      0\n",
       "date_id            0\n",
       "dtype: int64"
      ]
     },
     "execution_count": 35,
     "metadata": {},
     "output_type": "execute_result"
    }
   ],
   "source": [
    "transactions_df.isna().sum()"
   ]
  },
  {
   "cell_type": "code",
   "execution_count": 36,
   "metadata": {},
   "outputs": [],
   "source": [
    "transactions_df = quick_merge(transactions_df, promotion_df, 'inner', 'Promo Name', 'promotion_name')"
   ]
  },
  {
   "cell_type": "code",
   "execution_count": 37,
   "metadata": {},
   "outputs": [
    {
     "data": {
      "text/html": [
       "<div>\n",
       "<style scoped>\n",
       "    .dataframe tbody tr th:only-of-type {\n",
       "        vertical-align: middle;\n",
       "    }\n",
       "\n",
       "    .dataframe tbody tr th {\n",
       "        vertical-align: top;\n",
       "    }\n",
       "\n",
       "    .dataframe thead th {\n",
       "        text-align: right;\n",
       "    }\n",
       "</style>\n",
       "<table border=\"1\" class=\"dataframe\">\n",
       "  <thead>\n",
       "    <tr style=\"text-align: right;\">\n",
       "      <th></th>\n",
       "      <th>Subtotal</th>\n",
       "      <th>Tax Amount</th>\n",
       "      <th>Total Amount</th>\n",
       "      <th>Payment Method</th>\n",
       "      <th>Discount Amount</th>\n",
       "      <th>Promo Name</th>\n",
       "      <th>Quantity</th>\n",
       "      <th>transaction_id</th>\n",
       "      <th>employee_id</th>\n",
       "      <th>product_key</th>\n",
       "      <th>product_price</th>\n",
       "      <th>date_id</th>\n",
       "      <th>promotion_id</th>\n",
       "      <th>promotion_name</th>\n",
       "      <th>discount_percentage</th>\n",
       "      <th>description</th>\n",
       "    </tr>\n",
       "  </thead>\n",
       "  <tbody>\n",
       "    <tr>\n",
       "      <th>0</th>\n",
       "      <td>5.00</td>\n",
       "      <td>0.31</td>\n",
       "      <td>5.31</td>\n",
       "      <td>Card</td>\n",
       "      <td>0.0</td>\n",
       "      <td>BOGO</td>\n",
       "      <td>4</td>\n",
       "      <td>100</td>\n",
       "      <td>4</td>\n",
       "      <td>43</td>\n",
       "      <td>1.25</td>\n",
       "      <td>20150101</td>\n",
       "      <td>1</td>\n",
       "      <td>BOGO</td>\n",
       "      <td>0.5</td>\n",
       "      <td>Happens sporadically throughout the year, all ...</td>\n",
       "    </tr>\n",
       "    <tr>\n",
       "      <th>1</th>\n",
       "      <td>1.25</td>\n",
       "      <td>0.08</td>\n",
       "      <td>1.33</td>\n",
       "      <td>Cash</td>\n",
       "      <td>0.0</td>\n",
       "      <td>BOGO</td>\n",
       "      <td>1</td>\n",
       "      <td>199</td>\n",
       "      <td>3</td>\n",
       "      <td>43</td>\n",
       "      <td>1.25</td>\n",
       "      <td>20150103</td>\n",
       "      <td>1</td>\n",
       "      <td>BOGO</td>\n",
       "      <td>0.5</td>\n",
       "      <td>Happens sporadically throughout the year, all ...</td>\n",
       "    </tr>\n",
       "    <tr>\n",
       "      <th>2</th>\n",
       "      <td>3.75</td>\n",
       "      <td>0.23</td>\n",
       "      <td>3.98</td>\n",
       "      <td>Card</td>\n",
       "      <td>0.0</td>\n",
       "      <td>BOGO</td>\n",
       "      <td>3</td>\n",
       "      <td>272</td>\n",
       "      <td>3</td>\n",
       "      <td>43</td>\n",
       "      <td>1.25</td>\n",
       "      <td>20150105</td>\n",
       "      <td>1</td>\n",
       "      <td>BOGO</td>\n",
       "      <td>0.5</td>\n",
       "      <td>Happens sporadically throughout the year, all ...</td>\n",
       "    </tr>\n",
       "    <tr>\n",
       "      <th>3</th>\n",
       "      <td>5.00</td>\n",
       "      <td>0.31</td>\n",
       "      <td>5.31</td>\n",
       "      <td>Cash</td>\n",
       "      <td>0.0</td>\n",
       "      <td>BOGO</td>\n",
       "      <td>4</td>\n",
       "      <td>671</td>\n",
       "      <td>4</td>\n",
       "      <td>43</td>\n",
       "      <td>1.25</td>\n",
       "      <td>20150115</td>\n",
       "      <td>1</td>\n",
       "      <td>BOGO</td>\n",
       "      <td>0.5</td>\n",
       "      <td>Happens sporadically throughout the year, all ...</td>\n",
       "    </tr>\n",
       "    <tr>\n",
       "      <th>4</th>\n",
       "      <td>5.00</td>\n",
       "      <td>0.31</td>\n",
       "      <td>5.31</td>\n",
       "      <td>Cash</td>\n",
       "      <td>0.0</td>\n",
       "      <td>BOGO</td>\n",
       "      <td>4</td>\n",
       "      <td>717</td>\n",
       "      <td>1</td>\n",
       "      <td>43</td>\n",
       "      <td>1.25</td>\n",
       "      <td>20150116</td>\n",
       "      <td>1</td>\n",
       "      <td>BOGO</td>\n",
       "      <td>0.5</td>\n",
       "      <td>Happens sporadically throughout the year, all ...</td>\n",
       "    </tr>\n",
       "  </tbody>\n",
       "</table>\n",
       "</div>"
      ],
      "text/plain": [
       "   Subtotal  Tax Amount  Total Amount Payment Method  Discount Amount  \\\n",
       "0      5.00        0.31          5.31           Card              0.0   \n",
       "1      1.25        0.08          1.33           Cash              0.0   \n",
       "2      3.75        0.23          3.98           Card              0.0   \n",
       "3      5.00        0.31          5.31           Cash              0.0   \n",
       "4      5.00        0.31          5.31           Cash              0.0   \n",
       "\n",
       "  Promo Name  Quantity  transaction_id  employee_id  product_key  \\\n",
       "0       BOGO         4             100            4           43   \n",
       "1       BOGO         1             199            3           43   \n",
       "2       BOGO         3             272            3           43   \n",
       "3       BOGO         4             671            4           43   \n",
       "4       BOGO         4             717            1           43   \n",
       "\n",
       "   product_price   date_id  promotion_id promotion_name  discount_percentage  \\\n",
       "0           1.25  20150101             1           BOGO                  0.5   \n",
       "1           1.25  20150103             1           BOGO                  0.5   \n",
       "2           1.25  20150105             1           BOGO                  0.5   \n",
       "3           1.25  20150115             1           BOGO                  0.5   \n",
       "4           1.25  20150116             1           BOGO                  0.5   \n",
       "\n",
       "                                         description  \n",
       "0  Happens sporadically throughout the year, all ...  \n",
       "1  Happens sporadically throughout the year, all ...  \n",
       "2  Happens sporadically throughout the year, all ...  \n",
       "3  Happens sporadically throughout the year, all ...  \n",
       "4  Happens sporadically throughout the year, all ...  "
      ]
     },
     "execution_count": 37,
     "metadata": {},
     "output_type": "execute_result"
    }
   ],
   "source": [
    "transactions_df.head()"
   ]
  },
  {
   "cell_type": "code",
   "execution_count": 38,
   "metadata": {},
   "outputs": [
    {
     "data": {
      "text/plain": [
       "Index(['Subtotal', 'Tax Amount', 'Total Amount', 'Payment Method',\n",
       "       'Discount Amount', 'Promo Name', 'Quantity', 'transaction_id',\n",
       "       'employee_id', 'product_key', 'product_price', 'date_id',\n",
       "       'promotion_id', 'promotion_name', 'discount_percentage', 'description'],\n",
       "      dtype='object')"
      ]
     },
     "execution_count": 38,
     "metadata": {},
     "output_type": "execute_result"
    }
   ],
   "source": [
    "transactions_df.columns"
   ]
  },
  {
   "cell_type": "code",
   "execution_count": 39,
   "metadata": {},
   "outputs": [],
   "source": [
    "transactions_df.drop(columns=['Promo Name', 'promotion_name', 'discount_percentage', 'description'], inplace=True)"
   ]
  },
  {
   "cell_type": "code",
   "execution_count": 40,
   "metadata": {},
   "outputs": [
    {
     "data": {
      "text/plain": [
       "promotion_id\n",
       "4    650736\n",
       "1     83971\n",
       "2     19988\n",
       "3      1440\n",
       "Name: count, dtype: int64"
      ]
     },
     "execution_count": 40,
     "metadata": {},
     "output_type": "execute_result"
    }
   ],
   "source": [
    "transactions_df['promotion_id'].value_counts()"
   ]
  },
  {
   "cell_type": "code",
   "execution_count": 41,
   "metadata": {},
   "outputs": [
    {
     "data": {
      "text/plain": [
       "(756135, 12)"
      ]
     },
     "execution_count": 41,
     "metadata": {},
     "output_type": "execute_result"
    }
   ],
   "source": [
    "transactions_df.shape"
   ]
  },
  {
   "cell_type": "code",
   "execution_count": 42,
   "metadata": {},
   "outputs": [
    {
     "data": {
      "text/html": [
       "<div>\n",
       "<style scoped>\n",
       "    .dataframe tbody tr th:only-of-type {\n",
       "        vertical-align: middle;\n",
       "    }\n",
       "\n",
       "    .dataframe tbody tr th {\n",
       "        vertical-align: top;\n",
       "    }\n",
       "\n",
       "    .dataframe thead th {\n",
       "        text-align: right;\n",
       "    }\n",
       "</style>\n",
       "<table border=\"1\" class=\"dataframe\">\n",
       "  <thead>\n",
       "    <tr style=\"text-align: right;\">\n",
       "      <th></th>\n",
       "      <th>Subtotal</th>\n",
       "      <th>Tax Amount</th>\n",
       "      <th>Total Amount</th>\n",
       "      <th>Payment Method</th>\n",
       "      <th>Discount Amount</th>\n",
       "      <th>Quantity</th>\n",
       "      <th>transaction_id</th>\n",
       "      <th>employee_id</th>\n",
       "      <th>product_key</th>\n",
       "      <th>product_price</th>\n",
       "      <th>date_id</th>\n",
       "      <th>promotion_id</th>\n",
       "    </tr>\n",
       "  </thead>\n",
       "  <tbody>\n",
       "    <tr>\n",
       "      <th>23267</th>\n",
       "      <td>5.0</td>\n",
       "      <td>0.31</td>\n",
       "      <td>5.31</td>\n",
       "      <td>Card</td>\n",
       "      <td>0.0</td>\n",
       "      <td>4</td>\n",
       "      <td>17801</td>\n",
       "      <td>2</td>\n",
       "      <td>38</td>\n",
       "      <td>1.25</td>\n",
       "      <td>20160226</td>\n",
       "      <td>1</td>\n",
       "    </tr>\n",
       "    <tr>\n",
       "      <th>377728</th>\n",
       "      <td>4.0</td>\n",
       "      <td>0.25</td>\n",
       "      <td>4.25</td>\n",
       "      <td>Card</td>\n",
       "      <td>0.0</td>\n",
       "      <td>4</td>\n",
       "      <td>240185</td>\n",
       "      <td>8</td>\n",
       "      <td>6</td>\n",
       "      <td>1.00</td>\n",
       "      <td>20240922</td>\n",
       "      <td>4</td>\n",
       "    </tr>\n",
       "    <tr>\n",
       "      <th>569800</th>\n",
       "      <td>8.0</td>\n",
       "      <td>0.50</td>\n",
       "      <td>8.50</td>\n",
       "      <td>Card</td>\n",
       "      <td>0.0</td>\n",
       "      <td>4</td>\n",
       "      <td>207676</td>\n",
       "      <td>3</td>\n",
       "      <td>29</td>\n",
       "      <td>2.00</td>\n",
       "      <td>20231219</td>\n",
       "      <td>4</td>\n",
       "    </tr>\n",
       "    <tr>\n",
       "      <th>545966</th>\n",
       "      <td>6.0</td>\n",
       "      <td>0.38</td>\n",
       "      <td>6.38</td>\n",
       "      <td>Cash</td>\n",
       "      <td>0.0</td>\n",
       "      <td>3</td>\n",
       "      <td>115774</td>\n",
       "      <td>4</td>\n",
       "      <td>30</td>\n",
       "      <td>2.00</td>\n",
       "      <td>20210419</td>\n",
       "      <td>4</td>\n",
       "    </tr>\n",
       "  </tbody>\n",
       "</table>\n",
       "</div>"
      ],
      "text/plain": [
       "        Subtotal  Tax Amount  Total Amount Payment Method  Discount Amount  \\\n",
       "23267        5.0        0.31          5.31           Card              0.0   \n",
       "377728       4.0        0.25          4.25           Card              0.0   \n",
       "569800       8.0        0.50          8.50           Card              0.0   \n",
       "545966       6.0        0.38          6.38           Cash              0.0   \n",
       "\n",
       "        Quantity  transaction_id  employee_id  product_key  product_price  \\\n",
       "23267          4           17801            2           38           1.25   \n",
       "377728         4          240185            8            6           1.00   \n",
       "569800         4          207676            3           29           2.00   \n",
       "545966         3          115774            4           30           2.00   \n",
       "\n",
       "         date_id  promotion_id  \n",
       "23267   20160226             1  \n",
       "377728  20240922             4  \n",
       "569800  20231219             4  \n",
       "545966  20210419             4  "
      ]
     },
     "execution_count": 42,
     "metadata": {},
     "output_type": "execute_result"
    }
   ],
   "source": [
    "transactions_df.sample(4)"
   ]
  },
  {
   "cell_type": "markdown",
   "metadata": {},
   "source": [
    "#### Payment Method ID"
   ]
  },
  {
   "cell_type": "code",
   "execution_count": 43,
   "metadata": {},
   "outputs": [
    {
     "data": {
      "text/html": [
       "<div>\n",
       "<style scoped>\n",
       "    .dataframe tbody tr th:only-of-type {\n",
       "        vertical-align: middle;\n",
       "    }\n",
       "\n",
       "    .dataframe tbody tr th {\n",
       "        vertical-align: top;\n",
       "    }\n",
       "\n",
       "    .dataframe thead th {\n",
       "        text-align: right;\n",
       "    }\n",
       "</style>\n",
       "<table border=\"1\" class=\"dataframe\">\n",
       "  <thead>\n",
       "    <tr style=\"text-align: right;\">\n",
       "      <th></th>\n",
       "      <th>Subtotal</th>\n",
       "      <th>Tax Amount</th>\n",
       "      <th>Total Amount</th>\n",
       "      <th>Payment Method</th>\n",
       "      <th>Discount Amount</th>\n",
       "      <th>Quantity</th>\n",
       "      <th>transaction_id</th>\n",
       "      <th>employee_id</th>\n",
       "      <th>product_key</th>\n",
       "      <th>product_price</th>\n",
       "      <th>date_id</th>\n",
       "      <th>promotion_id</th>\n",
       "    </tr>\n",
       "  </thead>\n",
       "  <tbody>\n",
       "    <tr>\n",
       "      <th>0</th>\n",
       "      <td>5.00</td>\n",
       "      <td>0.31</td>\n",
       "      <td>5.31</td>\n",
       "      <td>Card</td>\n",
       "      <td>0.0</td>\n",
       "      <td>4</td>\n",
       "      <td>100</td>\n",
       "      <td>4</td>\n",
       "      <td>43</td>\n",
       "      <td>1.25</td>\n",
       "      <td>20150101</td>\n",
       "      <td>1</td>\n",
       "    </tr>\n",
       "    <tr>\n",
       "      <th>1</th>\n",
       "      <td>1.25</td>\n",
       "      <td>0.08</td>\n",
       "      <td>1.33</td>\n",
       "      <td>Cash</td>\n",
       "      <td>0.0</td>\n",
       "      <td>1</td>\n",
       "      <td>199</td>\n",
       "      <td>3</td>\n",
       "      <td>43</td>\n",
       "      <td>1.25</td>\n",
       "      <td>20150103</td>\n",
       "      <td>1</td>\n",
       "    </tr>\n",
       "    <tr>\n",
       "      <th>2</th>\n",
       "      <td>3.75</td>\n",
       "      <td>0.23</td>\n",
       "      <td>3.98</td>\n",
       "      <td>Card</td>\n",
       "      <td>0.0</td>\n",
       "      <td>3</td>\n",
       "      <td>272</td>\n",
       "      <td>3</td>\n",
       "      <td>43</td>\n",
       "      <td>1.25</td>\n",
       "      <td>20150105</td>\n",
       "      <td>1</td>\n",
       "    </tr>\n",
       "    <tr>\n",
       "      <th>3</th>\n",
       "      <td>5.00</td>\n",
       "      <td>0.31</td>\n",
       "      <td>5.31</td>\n",
       "      <td>Cash</td>\n",
       "      <td>0.0</td>\n",
       "      <td>4</td>\n",
       "      <td>671</td>\n",
       "      <td>4</td>\n",
       "      <td>43</td>\n",
       "      <td>1.25</td>\n",
       "      <td>20150115</td>\n",
       "      <td>1</td>\n",
       "    </tr>\n",
       "    <tr>\n",
       "      <th>4</th>\n",
       "      <td>5.00</td>\n",
       "      <td>0.31</td>\n",
       "      <td>5.31</td>\n",
       "      <td>Cash</td>\n",
       "      <td>0.0</td>\n",
       "      <td>4</td>\n",
       "      <td>717</td>\n",
       "      <td>1</td>\n",
       "      <td>43</td>\n",
       "      <td>1.25</td>\n",
       "      <td>20150116</td>\n",
       "      <td>1</td>\n",
       "    </tr>\n",
       "  </tbody>\n",
       "</table>\n",
       "</div>"
      ],
      "text/plain": [
       "   Subtotal  Tax Amount  Total Amount Payment Method  Discount Amount  \\\n",
       "0      5.00        0.31          5.31           Card              0.0   \n",
       "1      1.25        0.08          1.33           Cash              0.0   \n",
       "2      3.75        0.23          3.98           Card              0.0   \n",
       "3      5.00        0.31          5.31           Cash              0.0   \n",
       "4      5.00        0.31          5.31           Cash              0.0   \n",
       "\n",
       "   Quantity  transaction_id  employee_id  product_key  product_price  \\\n",
       "0         4             100            4           43           1.25   \n",
       "1         1             199            3           43           1.25   \n",
       "2         3             272            3           43           1.25   \n",
       "3         4             671            4           43           1.25   \n",
       "4         4             717            1           43           1.25   \n",
       "\n",
       "    date_id  promotion_id  \n",
       "0  20150101             1  \n",
       "1  20150103             1  \n",
       "2  20150105             1  \n",
       "3  20150115             1  \n",
       "4  20150116             1  "
      ]
     },
     "execution_count": 43,
     "metadata": {},
     "output_type": "execute_result"
    }
   ],
   "source": [
    "transactions_df.head()"
   ]
  },
  {
   "cell_type": "code",
   "execution_count": 44,
   "metadata": {},
   "outputs": [
    {
     "data": {
      "text/plain": [
       "Payment Method\n",
       "Card    536815\n",
       "Cash    219320\n",
       "Name: count, dtype: int64"
      ]
     },
     "execution_count": 44,
     "metadata": {},
     "output_type": "execute_result"
    }
   ],
   "source": [
    "transactions_df['Payment Method'].value_counts()"
   ]
  },
  {
   "cell_type": "code",
   "execution_count": 45,
   "metadata": {},
   "outputs": [
    {
     "data": {
      "text/plain": [
       "0"
      ]
     },
     "execution_count": 45,
     "metadata": {},
     "output_type": "execute_result"
    }
   ],
   "source": [
    "transactions_df['Payment Method'].isnull().sum()"
   ]
  },
  {
   "cell_type": "code",
   "execution_count": 46,
   "metadata": {},
   "outputs": [
    {
     "data": {
      "text/plain": [
       "(756135, 12)"
      ]
     },
     "execution_count": 46,
     "metadata": {},
     "output_type": "execute_result"
    }
   ],
   "source": [
    "transactions_df.shape"
   ]
  },
  {
   "cell_type": "code",
   "execution_count": 47,
   "metadata": {},
   "outputs": [],
   "source": [
    "payment_method_df = pd.read_csv('datasets/fact_dimensions_models/dim_payment_methods.csv')"
   ]
  },
  {
   "cell_type": "code",
   "execution_count": 48,
   "metadata": {},
   "outputs": [
    {
     "data": {
      "text/html": [
       "<div>\n",
       "<style scoped>\n",
       "    .dataframe tbody tr th:only-of-type {\n",
       "        vertical-align: middle;\n",
       "    }\n",
       "\n",
       "    .dataframe tbody tr th {\n",
       "        vertical-align: top;\n",
       "    }\n",
       "\n",
       "    .dataframe thead th {\n",
       "        text-align: right;\n",
       "    }\n",
       "</style>\n",
       "<table border=\"1\" class=\"dataframe\">\n",
       "  <thead>\n",
       "    <tr style=\"text-align: right;\">\n",
       "      <th></th>\n",
       "      <th>payment_method_id</th>\n",
       "      <th>payment_method</th>\n",
       "    </tr>\n",
       "  </thead>\n",
       "  <tbody>\n",
       "    <tr>\n",
       "      <th>0</th>\n",
       "      <td>1</td>\n",
       "      <td>Cash</td>\n",
       "    </tr>\n",
       "    <tr>\n",
       "      <th>1</th>\n",
       "      <td>2</td>\n",
       "      <td>Card</td>\n",
       "    </tr>\n",
       "  </tbody>\n",
       "</table>\n",
       "</div>"
      ],
      "text/plain": [
       "   payment_method_id payment_method\n",
       "0                  1           Cash\n",
       "1                  2           Card"
      ]
     },
     "execution_count": 48,
     "metadata": {},
     "output_type": "execute_result"
    }
   ],
   "source": [
    "payment_method_df"
   ]
  },
  {
   "cell_type": "code",
   "execution_count": 49,
   "metadata": {},
   "outputs": [],
   "source": [
    "transactions_df = quick_merge(transactions_df, payment_method_df, 'inner', 'Payment Method', 'payment_method')"
   ]
  },
  {
   "cell_type": "code",
   "execution_count": 50,
   "metadata": {},
   "outputs": [
    {
     "data": {
      "text/plain": [
       "payment_method_id  Payment Method\n",
       "1                  Cash              219320\n",
       "2                  Card              536815\n",
       "Name: count, dtype: int64"
      ]
     },
     "execution_count": 50,
     "metadata": {},
     "output_type": "execute_result"
    }
   ],
   "source": [
    "transactions_df.groupby('payment_method_id')['Payment Method'].value_counts()"
   ]
  },
  {
   "cell_type": "code",
   "execution_count": 51,
   "metadata": {},
   "outputs": [
    {
     "data": {
      "text/plain": [
       "Index(['Subtotal', 'Tax Amount', 'Total Amount', 'Payment Method',\n",
       "       'Discount Amount', 'Quantity', 'transaction_id', 'employee_id',\n",
       "       'product_key', 'product_price', 'date_id', 'promotion_id',\n",
       "       'payment_method_id', 'payment_method'],\n",
       "      dtype='object')"
      ]
     },
     "execution_count": 51,
     "metadata": {},
     "output_type": "execute_result"
    }
   ],
   "source": [
    "transactions_df.columns"
   ]
  },
  {
   "cell_type": "code",
   "execution_count": 52,
   "metadata": {},
   "outputs": [],
   "source": [
    "transactions_df.drop(columns=['payment_method', 'Payment Method'], inplace=True)"
   ]
  },
  {
   "cell_type": "code",
   "execution_count": 53,
   "metadata": {},
   "outputs": [
    {
     "data": {
      "text/html": [
       "<div>\n",
       "<style scoped>\n",
       "    .dataframe tbody tr th:only-of-type {\n",
       "        vertical-align: middle;\n",
       "    }\n",
       "\n",
       "    .dataframe tbody tr th {\n",
       "        vertical-align: top;\n",
       "    }\n",
       "\n",
       "    .dataframe thead th {\n",
       "        text-align: right;\n",
       "    }\n",
       "</style>\n",
       "<table border=\"1\" class=\"dataframe\">\n",
       "  <thead>\n",
       "    <tr style=\"text-align: right;\">\n",
       "      <th></th>\n",
       "      <th>Subtotal</th>\n",
       "      <th>Tax Amount</th>\n",
       "      <th>Total Amount</th>\n",
       "      <th>Discount Amount</th>\n",
       "      <th>Quantity</th>\n",
       "      <th>transaction_id</th>\n",
       "      <th>employee_id</th>\n",
       "      <th>product_key</th>\n",
       "      <th>product_price</th>\n",
       "      <th>date_id</th>\n",
       "      <th>promotion_id</th>\n",
       "      <th>payment_method_id</th>\n",
       "    </tr>\n",
       "  </thead>\n",
       "  <tbody>\n",
       "    <tr>\n",
       "      <th>0</th>\n",
       "      <td>5.00</td>\n",
       "      <td>0.31</td>\n",
       "      <td>5.31</td>\n",
       "      <td>0.0</td>\n",
       "      <td>4</td>\n",
       "      <td>100</td>\n",
       "      <td>4</td>\n",
       "      <td>43</td>\n",
       "      <td>1.25</td>\n",
       "      <td>20150101</td>\n",
       "      <td>1</td>\n",
       "      <td>2</td>\n",
       "    </tr>\n",
       "    <tr>\n",
       "      <th>1</th>\n",
       "      <td>3.75</td>\n",
       "      <td>0.23</td>\n",
       "      <td>3.98</td>\n",
       "      <td>0.0</td>\n",
       "      <td>3</td>\n",
       "      <td>272</td>\n",
       "      <td>3</td>\n",
       "      <td>43</td>\n",
       "      <td>1.25</td>\n",
       "      <td>20150105</td>\n",
       "      <td>1</td>\n",
       "      <td>2</td>\n",
       "    </tr>\n",
       "    <tr>\n",
       "      <th>2</th>\n",
       "      <td>3.75</td>\n",
       "      <td>0.23</td>\n",
       "      <td>3.98</td>\n",
       "      <td>0.0</td>\n",
       "      <td>3</td>\n",
       "      <td>804</td>\n",
       "      <td>1</td>\n",
       "      <td>43</td>\n",
       "      <td>1.25</td>\n",
       "      <td>20150118</td>\n",
       "      <td>1</td>\n",
       "      <td>2</td>\n",
       "    </tr>\n",
       "    <tr>\n",
       "      <th>3</th>\n",
       "      <td>2.50</td>\n",
       "      <td>0.16</td>\n",
       "      <td>2.66</td>\n",
       "      <td>0.0</td>\n",
       "      <td>2</td>\n",
       "      <td>852</td>\n",
       "      <td>3</td>\n",
       "      <td>43</td>\n",
       "      <td>1.25</td>\n",
       "      <td>20150119</td>\n",
       "      <td>1</td>\n",
       "      <td>2</td>\n",
       "    </tr>\n",
       "    <tr>\n",
       "      <th>4</th>\n",
       "      <td>3.75</td>\n",
       "      <td>0.23</td>\n",
       "      <td>3.98</td>\n",
       "      <td>0.0</td>\n",
       "      <td>3</td>\n",
       "      <td>964</td>\n",
       "      <td>2</td>\n",
       "      <td>43</td>\n",
       "      <td>1.25</td>\n",
       "      <td>20150122</td>\n",
       "      <td>1</td>\n",
       "      <td>2</td>\n",
       "    </tr>\n",
       "  </tbody>\n",
       "</table>\n",
       "</div>"
      ],
      "text/plain": [
       "   Subtotal  Tax Amount  Total Amount  Discount Amount  Quantity  \\\n",
       "0      5.00        0.31          5.31              0.0         4   \n",
       "1      3.75        0.23          3.98              0.0         3   \n",
       "2      3.75        0.23          3.98              0.0         3   \n",
       "3      2.50        0.16          2.66              0.0         2   \n",
       "4      3.75        0.23          3.98              0.0         3   \n",
       "\n",
       "   transaction_id  employee_id  product_key  product_price   date_id  \\\n",
       "0             100            4           43           1.25  20150101   \n",
       "1             272            3           43           1.25  20150105   \n",
       "2             804            1           43           1.25  20150118   \n",
       "3             852            3           43           1.25  20150119   \n",
       "4             964            2           43           1.25  20150122   \n",
       "\n",
       "   promotion_id  payment_method_id  \n",
       "0             1                  2  \n",
       "1             1                  2  \n",
       "2             1                  2  \n",
       "3             1                  2  \n",
       "4             1                  2  "
      ]
     },
     "execution_count": 53,
     "metadata": {},
     "output_type": "execute_result"
    }
   ],
   "source": [
    "transactions_df.head()"
   ]
  },
  {
   "cell_type": "markdown",
   "metadata": {},
   "source": [
    "#### Transaction key/Surrogate key"
   ]
  },
  {
   "cell_type": "code",
   "execution_count": 54,
   "metadata": {},
   "outputs": [],
   "source": [
    "transactions_fact_model = Dimension_Modeler(transactions_df)"
   ]
  },
  {
   "cell_type": "code",
   "execution_count": 55,
   "metadata": {},
   "outputs": [
    {
     "data": {
      "text/html": [
       "<div>\n",
       "<style scoped>\n",
       "    .dataframe tbody tr th:only-of-type {\n",
       "        vertical-align: middle;\n",
       "    }\n",
       "\n",
       "    .dataframe tbody tr th {\n",
       "        vertical-align: top;\n",
       "    }\n",
       "\n",
       "    .dataframe thead th {\n",
       "        text-align: right;\n",
       "    }\n",
       "</style>\n",
       "<table border=\"1\" class=\"dataframe\">\n",
       "  <thead>\n",
       "    <tr style=\"text-align: right;\">\n",
       "      <th></th>\n",
       "      <th>transaction_key</th>\n",
       "      <th>Subtotal</th>\n",
       "      <th>Tax Amount</th>\n",
       "      <th>Total Amount</th>\n",
       "      <th>Discount Amount</th>\n",
       "      <th>Quantity</th>\n",
       "      <th>transaction_id</th>\n",
       "      <th>employee_id</th>\n",
       "      <th>product_key</th>\n",
       "      <th>product_price</th>\n",
       "      <th>date_id</th>\n",
       "      <th>promotion_id</th>\n",
       "      <th>payment_method_id</th>\n",
       "    </tr>\n",
       "  </thead>\n",
       "  <tbody>\n",
       "    <tr>\n",
       "      <th>0</th>\n",
       "      <td>1</td>\n",
       "      <td>5.00</td>\n",
       "      <td>0.31</td>\n",
       "      <td>5.31</td>\n",
       "      <td>0.00</td>\n",
       "      <td>4</td>\n",
       "      <td>100</td>\n",
       "      <td>4</td>\n",
       "      <td>43</td>\n",
       "      <td>1.25</td>\n",
       "      <td>20150101</td>\n",
       "      <td>1</td>\n",
       "      <td>2</td>\n",
       "    </tr>\n",
       "    <tr>\n",
       "      <th>1</th>\n",
       "      <td>2</td>\n",
       "      <td>3.75</td>\n",
       "      <td>0.23</td>\n",
       "      <td>3.98</td>\n",
       "      <td>0.00</td>\n",
       "      <td>3</td>\n",
       "      <td>272</td>\n",
       "      <td>3</td>\n",
       "      <td>43</td>\n",
       "      <td>1.25</td>\n",
       "      <td>20150105</td>\n",
       "      <td>1</td>\n",
       "      <td>2</td>\n",
       "    </tr>\n",
       "    <tr>\n",
       "      <th>2</th>\n",
       "      <td>3</td>\n",
       "      <td>3.75</td>\n",
       "      <td>0.23</td>\n",
       "      <td>3.98</td>\n",
       "      <td>0.00</td>\n",
       "      <td>3</td>\n",
       "      <td>804</td>\n",
       "      <td>1</td>\n",
       "      <td>43</td>\n",
       "      <td>1.25</td>\n",
       "      <td>20150118</td>\n",
       "      <td>1</td>\n",
       "      <td>2</td>\n",
       "    </tr>\n",
       "    <tr>\n",
       "      <th>3</th>\n",
       "      <td>4</td>\n",
       "      <td>2.50</td>\n",
       "      <td>0.16</td>\n",
       "      <td>2.66</td>\n",
       "      <td>0.00</td>\n",
       "      <td>2</td>\n",
       "      <td>852</td>\n",
       "      <td>3</td>\n",
       "      <td>43</td>\n",
       "      <td>1.25</td>\n",
       "      <td>20150119</td>\n",
       "      <td>1</td>\n",
       "      <td>2</td>\n",
       "    </tr>\n",
       "    <tr>\n",
       "      <th>4</th>\n",
       "      <td>5</td>\n",
       "      <td>3.75</td>\n",
       "      <td>0.23</td>\n",
       "      <td>3.98</td>\n",
       "      <td>0.00</td>\n",
       "      <td>3</td>\n",
       "      <td>964</td>\n",
       "      <td>2</td>\n",
       "      <td>43</td>\n",
       "      <td>1.25</td>\n",
       "      <td>20150122</td>\n",
       "      <td>1</td>\n",
       "      <td>2</td>\n",
       "    </tr>\n",
       "    <tr>\n",
       "      <th>...</th>\n",
       "      <td>...</td>\n",
       "      <td>...</td>\n",
       "      <td>...</td>\n",
       "      <td>...</td>\n",
       "      <td>...</td>\n",
       "      <td>...</td>\n",
       "      <td>...</td>\n",
       "      <td>...</td>\n",
       "      <td>...</td>\n",
       "      <td>...</td>\n",
       "      <td>...</td>\n",
       "      <td>...</td>\n",
       "      <td>...</td>\n",
       "    </tr>\n",
       "    <tr>\n",
       "      <th>756130</th>\n",
       "      <td>756131</td>\n",
       "      <td>0.75</td>\n",
       "      <td>0.05</td>\n",
       "      <td>0.80</td>\n",
       "      <td>0.25</td>\n",
       "      <td>1</td>\n",
       "      <td>159826</td>\n",
       "      <td>6</td>\n",
       "      <td>9</td>\n",
       "      <td>1.00</td>\n",
       "      <td>20220904</td>\n",
       "      <td>3</td>\n",
       "      <td>1</td>\n",
       "    </tr>\n",
       "    <tr>\n",
       "      <th>756131</th>\n",
       "      <td>756132</td>\n",
       "      <td>3.00</td>\n",
       "      <td>0.19</td>\n",
       "      <td>3.19</td>\n",
       "      <td>1.00</td>\n",
       "      <td>4</td>\n",
       "      <td>159872</td>\n",
       "      <td>1</td>\n",
       "      <td>9</td>\n",
       "      <td>1.00</td>\n",
       "      <td>20220904</td>\n",
       "      <td>3</td>\n",
       "      <td>1</td>\n",
       "    </tr>\n",
       "    <tr>\n",
       "      <th>756132</th>\n",
       "      <td>756133</td>\n",
       "      <td>3.00</td>\n",
       "      <td>0.19</td>\n",
       "      <td>3.19</td>\n",
       "      <td>1.00</td>\n",
       "      <td>4</td>\n",
       "      <td>159929</td>\n",
       "      <td>7</td>\n",
       "      <td>9</td>\n",
       "      <td>1.00</td>\n",
       "      <td>20220905</td>\n",
       "      <td>3</td>\n",
       "      <td>1</td>\n",
       "    </tr>\n",
       "    <tr>\n",
       "      <th>756133</th>\n",
       "      <td>756134</td>\n",
       "      <td>2.25</td>\n",
       "      <td>0.14</td>\n",
       "      <td>2.39</td>\n",
       "      <td>0.75</td>\n",
       "      <td>3</td>\n",
       "      <td>238375</td>\n",
       "      <td>6</td>\n",
       "      <td>9</td>\n",
       "      <td>1.00</td>\n",
       "      <td>20240906</td>\n",
       "      <td>3</td>\n",
       "      <td>1</td>\n",
       "    </tr>\n",
       "    <tr>\n",
       "      <th>756134</th>\n",
       "      <td>756135</td>\n",
       "      <td>2.25</td>\n",
       "      <td>0.14</td>\n",
       "      <td>2.39</td>\n",
       "      <td>0.75</td>\n",
       "      <td>3</td>\n",
       "      <td>238421</td>\n",
       "      <td>8</td>\n",
       "      <td>9</td>\n",
       "      <td>1.00</td>\n",
       "      <td>20240907</td>\n",
       "      <td>3</td>\n",
       "      <td>1</td>\n",
       "    </tr>\n",
       "  </tbody>\n",
       "</table>\n",
       "<p>756135 rows × 13 columns</p>\n",
       "</div>"
      ],
      "text/plain": [
       "        transaction_key  Subtotal  Tax Amount  Total Amount  Discount Amount  \\\n",
       "0                     1      5.00        0.31          5.31             0.00   \n",
       "1                     2      3.75        0.23          3.98             0.00   \n",
       "2                     3      3.75        0.23          3.98             0.00   \n",
       "3                     4      2.50        0.16          2.66             0.00   \n",
       "4                     5      3.75        0.23          3.98             0.00   \n",
       "...                 ...       ...         ...           ...              ...   \n",
       "756130           756131      0.75        0.05          0.80             0.25   \n",
       "756131           756132      3.00        0.19          3.19             1.00   \n",
       "756132           756133      3.00        0.19          3.19             1.00   \n",
       "756133           756134      2.25        0.14          2.39             0.75   \n",
       "756134           756135      2.25        0.14          2.39             0.75   \n",
       "\n",
       "        Quantity  transaction_id  employee_id  product_key  product_price  \\\n",
       "0              4             100            4           43           1.25   \n",
       "1              3             272            3           43           1.25   \n",
       "2              3             804            1           43           1.25   \n",
       "3              2             852            3           43           1.25   \n",
       "4              3             964            2           43           1.25   \n",
       "...          ...             ...          ...          ...            ...   \n",
       "756130         1          159826            6            9           1.00   \n",
       "756131         4          159872            1            9           1.00   \n",
       "756132         4          159929            7            9           1.00   \n",
       "756133         3          238375            6            9           1.00   \n",
       "756134         3          238421            8            9           1.00   \n",
       "\n",
       "         date_id  promotion_id  payment_method_id  \n",
       "0       20150101             1                  2  \n",
       "1       20150105             1                  2  \n",
       "2       20150118             1                  2  \n",
       "3       20150119             1                  2  \n",
       "4       20150122             1                  2  \n",
       "...          ...           ...                ...  \n",
       "756130  20220904             3                  1  \n",
       "756131  20220904             3                  1  \n",
       "756132  20220905             3                  1  \n",
       "756133  20240906             3                  1  \n",
       "756134  20240907             3                  1  \n",
       "\n",
       "[756135 rows x 13 columns]"
      ]
     },
     "execution_count": 55,
     "metadata": {},
     "output_type": "execute_result"
    }
   ],
   "source": [
    "transactions_fact_model.make_id_col('transaction_key')"
   ]
  },
  {
   "cell_type": "code",
   "execution_count": 57,
   "metadata": {},
   "outputs": [
    {
     "data": {
      "text/html": [
       "<div>\n",
       "<style scoped>\n",
       "    .dataframe tbody tr th:only-of-type {\n",
       "        vertical-align: middle;\n",
       "    }\n",
       "\n",
       "    .dataframe tbody tr th {\n",
       "        vertical-align: top;\n",
       "    }\n",
       "\n",
       "    .dataframe thead th {\n",
       "        text-align: right;\n",
       "    }\n",
       "</style>\n",
       "<table border=\"1\" class=\"dataframe\">\n",
       "  <thead>\n",
       "    <tr style=\"text-align: right;\">\n",
       "      <th></th>\n",
       "      <th>transaction_key</th>\n",
       "      <th>Subtotal</th>\n",
       "      <th>Tax Amount</th>\n",
       "      <th>Total Amount</th>\n",
       "      <th>Discount Amount</th>\n",
       "      <th>Quantity</th>\n",
       "      <th>transaction_id</th>\n",
       "      <th>employee_id</th>\n",
       "      <th>product_key</th>\n",
       "      <th>product_price</th>\n",
       "      <th>date_id</th>\n",
       "      <th>promotion_id</th>\n",
       "      <th>payment_method_id</th>\n",
       "    </tr>\n",
       "  </thead>\n",
       "  <tbody>\n",
       "    <tr>\n",
       "      <th>0</th>\n",
       "      <td>1</td>\n",
       "      <td>5.00</td>\n",
       "      <td>0.31</td>\n",
       "      <td>5.31</td>\n",
       "      <td>0.00</td>\n",
       "      <td>4</td>\n",
       "      <td>100</td>\n",
       "      <td>4</td>\n",
       "      <td>43</td>\n",
       "      <td>1.25</td>\n",
       "      <td>20150101</td>\n",
       "      <td>1</td>\n",
       "      <td>2</td>\n",
       "    </tr>\n",
       "    <tr>\n",
       "      <th>1</th>\n",
       "      <td>2</td>\n",
       "      <td>3.75</td>\n",
       "      <td>0.23</td>\n",
       "      <td>3.98</td>\n",
       "      <td>0.00</td>\n",
       "      <td>3</td>\n",
       "      <td>272</td>\n",
       "      <td>3</td>\n",
       "      <td>43</td>\n",
       "      <td>1.25</td>\n",
       "      <td>20150105</td>\n",
       "      <td>1</td>\n",
       "      <td>2</td>\n",
       "    </tr>\n",
       "    <tr>\n",
       "      <th>2</th>\n",
       "      <td>3</td>\n",
       "      <td>3.75</td>\n",
       "      <td>0.23</td>\n",
       "      <td>3.98</td>\n",
       "      <td>0.00</td>\n",
       "      <td>3</td>\n",
       "      <td>804</td>\n",
       "      <td>1</td>\n",
       "      <td>43</td>\n",
       "      <td>1.25</td>\n",
       "      <td>20150118</td>\n",
       "      <td>1</td>\n",
       "      <td>2</td>\n",
       "    </tr>\n",
       "    <tr>\n",
       "      <th>3</th>\n",
       "      <td>4</td>\n",
       "      <td>2.50</td>\n",
       "      <td>0.16</td>\n",
       "      <td>2.66</td>\n",
       "      <td>0.00</td>\n",
       "      <td>2</td>\n",
       "      <td>852</td>\n",
       "      <td>3</td>\n",
       "      <td>43</td>\n",
       "      <td>1.25</td>\n",
       "      <td>20150119</td>\n",
       "      <td>1</td>\n",
       "      <td>2</td>\n",
       "    </tr>\n",
       "    <tr>\n",
       "      <th>4</th>\n",
       "      <td>5</td>\n",
       "      <td>3.75</td>\n",
       "      <td>0.23</td>\n",
       "      <td>3.98</td>\n",
       "      <td>0.00</td>\n",
       "      <td>3</td>\n",
       "      <td>964</td>\n",
       "      <td>2</td>\n",
       "      <td>43</td>\n",
       "      <td>1.25</td>\n",
       "      <td>20150122</td>\n",
       "      <td>1</td>\n",
       "      <td>2</td>\n",
       "    </tr>\n",
       "    <tr>\n",
       "      <th>...</th>\n",
       "      <td>...</td>\n",
       "      <td>...</td>\n",
       "      <td>...</td>\n",
       "      <td>...</td>\n",
       "      <td>...</td>\n",
       "      <td>...</td>\n",
       "      <td>...</td>\n",
       "      <td>...</td>\n",
       "      <td>...</td>\n",
       "      <td>...</td>\n",
       "      <td>...</td>\n",
       "      <td>...</td>\n",
       "      <td>...</td>\n",
       "    </tr>\n",
       "    <tr>\n",
       "      <th>756130</th>\n",
       "      <td>756131</td>\n",
       "      <td>0.75</td>\n",
       "      <td>0.05</td>\n",
       "      <td>0.80</td>\n",
       "      <td>0.25</td>\n",
       "      <td>1</td>\n",
       "      <td>159826</td>\n",
       "      <td>6</td>\n",
       "      <td>9</td>\n",
       "      <td>1.00</td>\n",
       "      <td>20220904</td>\n",
       "      <td>3</td>\n",
       "      <td>1</td>\n",
       "    </tr>\n",
       "    <tr>\n",
       "      <th>756131</th>\n",
       "      <td>756132</td>\n",
       "      <td>3.00</td>\n",
       "      <td>0.19</td>\n",
       "      <td>3.19</td>\n",
       "      <td>1.00</td>\n",
       "      <td>4</td>\n",
       "      <td>159872</td>\n",
       "      <td>1</td>\n",
       "      <td>9</td>\n",
       "      <td>1.00</td>\n",
       "      <td>20220904</td>\n",
       "      <td>3</td>\n",
       "      <td>1</td>\n",
       "    </tr>\n",
       "    <tr>\n",
       "      <th>756132</th>\n",
       "      <td>756133</td>\n",
       "      <td>3.00</td>\n",
       "      <td>0.19</td>\n",
       "      <td>3.19</td>\n",
       "      <td>1.00</td>\n",
       "      <td>4</td>\n",
       "      <td>159929</td>\n",
       "      <td>7</td>\n",
       "      <td>9</td>\n",
       "      <td>1.00</td>\n",
       "      <td>20220905</td>\n",
       "      <td>3</td>\n",
       "      <td>1</td>\n",
       "    </tr>\n",
       "    <tr>\n",
       "      <th>756133</th>\n",
       "      <td>756134</td>\n",
       "      <td>2.25</td>\n",
       "      <td>0.14</td>\n",
       "      <td>2.39</td>\n",
       "      <td>0.75</td>\n",
       "      <td>3</td>\n",
       "      <td>238375</td>\n",
       "      <td>6</td>\n",
       "      <td>9</td>\n",
       "      <td>1.00</td>\n",
       "      <td>20240906</td>\n",
       "      <td>3</td>\n",
       "      <td>1</td>\n",
       "    </tr>\n",
       "    <tr>\n",
       "      <th>756134</th>\n",
       "      <td>756135</td>\n",
       "      <td>2.25</td>\n",
       "      <td>0.14</td>\n",
       "      <td>2.39</td>\n",
       "      <td>0.75</td>\n",
       "      <td>3</td>\n",
       "      <td>238421</td>\n",
       "      <td>8</td>\n",
       "      <td>9</td>\n",
       "      <td>1.00</td>\n",
       "      <td>20240907</td>\n",
       "      <td>3</td>\n",
       "      <td>1</td>\n",
       "    </tr>\n",
       "  </tbody>\n",
       "</table>\n",
       "<p>756135 rows × 13 columns</p>\n",
       "</div>"
      ],
      "text/plain": [
       "        transaction_key  Subtotal  Tax Amount  Total Amount  Discount Amount  \\\n",
       "0                     1      5.00        0.31          5.31             0.00   \n",
       "1                     2      3.75        0.23          3.98             0.00   \n",
       "2                     3      3.75        0.23          3.98             0.00   \n",
       "3                     4      2.50        0.16          2.66             0.00   \n",
       "4                     5      3.75        0.23          3.98             0.00   \n",
       "...                 ...       ...         ...           ...              ...   \n",
       "756130           756131      0.75        0.05          0.80             0.25   \n",
       "756131           756132      3.00        0.19          3.19             1.00   \n",
       "756132           756133      3.00        0.19          3.19             1.00   \n",
       "756133           756134      2.25        0.14          2.39             0.75   \n",
       "756134           756135      2.25        0.14          2.39             0.75   \n",
       "\n",
       "        Quantity  transaction_id  employee_id  product_key  product_price  \\\n",
       "0              4             100            4           43           1.25   \n",
       "1              3             272            3           43           1.25   \n",
       "2              3             804            1           43           1.25   \n",
       "3              2             852            3           43           1.25   \n",
       "4              3             964            2           43           1.25   \n",
       "...          ...             ...          ...          ...            ...   \n",
       "756130         1          159826            6            9           1.00   \n",
       "756131         4          159872            1            9           1.00   \n",
       "756132         4          159929            7            9           1.00   \n",
       "756133         3          238375            6            9           1.00   \n",
       "756134         3          238421            8            9           1.00   \n",
       "\n",
       "         date_id  promotion_id  payment_method_id  \n",
       "0       20150101             1                  2  \n",
       "1       20150105             1                  2  \n",
       "2       20150118             1                  2  \n",
       "3       20150119             1                  2  \n",
       "4       20150122             1                  2  \n",
       "...          ...           ...                ...  \n",
       "756130  20220904             3                  1  \n",
       "756131  20220904             3                  1  \n",
       "756132  20220905             3                  1  \n",
       "756133  20240906             3                  1  \n",
       "756134  20240907             3                  1  \n",
       "\n",
       "[756135 rows x 13 columns]"
      ]
     },
     "execution_count": 57,
     "metadata": {},
     "output_type": "execute_result"
    }
   ],
   "source": [
    "transactions_fact_model.df"
   ]
  },
  {
   "cell_type": "markdown",
   "metadata": {},
   "source": [
    "#### Fixing columns etc to match the data model"
   ]
  },
  {
   "cell_type": "code",
   "execution_count": 2,
   "metadata": {},
   "outputs": [],
   "source": [
    "transactions_final_df = pd.read_csv('datasets/fact_dimensions_models/fact_transactions.csv')"
   ]
  },
  {
   "cell_type": "code",
   "execution_count": 3,
   "metadata": {},
   "outputs": [
    {
     "data": {
      "text/html": [
       "<div>\n",
       "<style scoped>\n",
       "    .dataframe tbody tr th:only-of-type {\n",
       "        vertical-align: middle;\n",
       "    }\n",
       "\n",
       "    .dataframe tbody tr th {\n",
       "        vertical-align: top;\n",
       "    }\n",
       "\n",
       "    .dataframe thead th {\n",
       "        text-align: right;\n",
       "    }\n",
       "</style>\n",
       "<table border=\"1\" class=\"dataframe\">\n",
       "  <thead>\n",
       "    <tr style=\"text-align: right;\">\n",
       "      <th></th>\n",
       "      <th>transaction_key</th>\n",
       "      <th>Subtotal</th>\n",
       "      <th>Tax Amount</th>\n",
       "      <th>Total Amount</th>\n",
       "      <th>Discount Amount</th>\n",
       "      <th>Quantity</th>\n",
       "      <th>transaction_id</th>\n",
       "      <th>employee_id</th>\n",
       "      <th>product_key</th>\n",
       "      <th>product_price</th>\n",
       "      <th>date_id</th>\n",
       "      <th>promotion_id</th>\n",
       "      <th>payment_method_id</th>\n",
       "    </tr>\n",
       "  </thead>\n",
       "  <tbody>\n",
       "    <tr>\n",
       "      <th>231200</th>\n",
       "      <td>231201</td>\n",
       "      <td>1.0</td>\n",
       "      <td>0.06</td>\n",
       "      <td>1.06</td>\n",
       "      <td>0.0</td>\n",
       "      <td>2</td>\n",
       "      <td>89434</td>\n",
       "      <td>4</td>\n",
       "      <td>25</td>\n",
       "      <td>0.5</td>\n",
       "      <td>20191002</td>\n",
       "      <td>4</td>\n",
       "      <td>2</td>\n",
       "    </tr>\n",
       "    <tr>\n",
       "      <th>109992</th>\n",
       "      <td>109993</td>\n",
       "      <td>6.0</td>\n",
       "      <td>0.38</td>\n",
       "      <td>6.38</td>\n",
       "      <td>0.0</td>\n",
       "      <td>4</td>\n",
       "      <td>22943</td>\n",
       "      <td>3</td>\n",
       "      <td>51</td>\n",
       "      <td>1.5</td>\n",
       "      <td>20160615</td>\n",
       "      <td>4</td>\n",
       "      <td>2</td>\n",
       "    </tr>\n",
       "    <tr>\n",
       "      <th>110682</th>\n",
       "      <td>110683</td>\n",
       "      <td>3.0</td>\n",
       "      <td>0.19</td>\n",
       "      <td>3.19</td>\n",
       "      <td>0.0</td>\n",
       "      <td>2</td>\n",
       "      <td>34424</td>\n",
       "      <td>3</td>\n",
       "      <td>51</td>\n",
       "      <td>1.5</td>\n",
       "      <td>20170216</td>\n",
       "      <td>4</td>\n",
       "      <td>2</td>\n",
       "    </tr>\n",
       "    <tr>\n",
       "      <th>717487</th>\n",
       "      <td>717488</td>\n",
       "      <td>12.0</td>\n",
       "      <td>0.75</td>\n",
       "      <td>12.75</td>\n",
       "      <td>0.0</td>\n",
       "      <td>4</td>\n",
       "      <td>227949</td>\n",
       "      <td>2</td>\n",
       "      <td>45</td>\n",
       "      <td>3.0</td>\n",
       "      <td>20240610</td>\n",
       "      <td>4</td>\n",
       "      <td>1</td>\n",
       "    </tr>\n",
       "    <tr>\n",
       "      <th>590645</th>\n",
       "      <td>590646</td>\n",
       "      <td>4.5</td>\n",
       "      <td>0.28</td>\n",
       "      <td>4.78</td>\n",
       "      <td>0.0</td>\n",
       "      <td>3</td>\n",
       "      <td>26322</td>\n",
       "      <td>2</td>\n",
       "      <td>54</td>\n",
       "      <td>1.5</td>\n",
       "      <td>20160827</td>\n",
       "      <td>4</td>\n",
       "      <td>1</td>\n",
       "    </tr>\n",
       "    <tr>\n",
       "      <th>396191</th>\n",
       "      <td>396192</td>\n",
       "      <td>6.0</td>\n",
       "      <td>0.38</td>\n",
       "      <td>6.38</td>\n",
       "      <td>0.0</td>\n",
       "      <td>3</td>\n",
       "      <td>195593</td>\n",
       "      <td>1</td>\n",
       "      <td>29</td>\n",
       "      <td>2.0</td>\n",
       "      <td>20230822</td>\n",
       "      <td>4</td>\n",
       "      <td>2</td>\n",
       "    </tr>\n",
       "    <tr>\n",
       "      <th>602015</th>\n",
       "      <td>602016</td>\n",
       "      <td>1.5</td>\n",
       "      <td>0.09</td>\n",
       "      <td>1.59</td>\n",
       "      <td>0.0</td>\n",
       "      <td>3</td>\n",
       "      <td>79422</td>\n",
       "      <td>5</td>\n",
       "      <td>21</td>\n",
       "      <td>0.5</td>\n",
       "      <td>20190426</td>\n",
       "      <td>4</td>\n",
       "      <td>1</td>\n",
       "    </tr>\n",
       "    <tr>\n",
       "      <th>460075</th>\n",
       "      <td>460076</td>\n",
       "      <td>4.0</td>\n",
       "      <td>0.25</td>\n",
       "      <td>4.25</td>\n",
       "      <td>0.0</td>\n",
       "      <td>4</td>\n",
       "      <td>136830</td>\n",
       "      <td>3</td>\n",
       "      <td>10</td>\n",
       "      <td>1.0</td>\n",
       "      <td>20220109</td>\n",
       "      <td>4</td>\n",
       "      <td>2</td>\n",
       "    </tr>\n",
       "    <tr>\n",
       "      <th>367504</th>\n",
       "      <td>367505</td>\n",
       "      <td>4.0</td>\n",
       "      <td>0.25</td>\n",
       "      <td>4.25</td>\n",
       "      <td>0.0</td>\n",
       "      <td>4</td>\n",
       "      <td>105602</td>\n",
       "      <td>5</td>\n",
       "      <td>2</td>\n",
       "      <td>1.0</td>\n",
       "      <td>20201119</td>\n",
       "      <td>4</td>\n",
       "      <td>2</td>\n",
       "    </tr>\n",
       "    <tr>\n",
       "      <th>329189</th>\n",
       "      <td>329190</td>\n",
       "      <td>3.0</td>\n",
       "      <td>0.19</td>\n",
       "      <td>3.19</td>\n",
       "      <td>0.0</td>\n",
       "      <td>3</td>\n",
       "      <td>199178</td>\n",
       "      <td>7</td>\n",
       "      <td>13</td>\n",
       "      <td>1.0</td>\n",
       "      <td>20230926</td>\n",
       "      <td>4</td>\n",
       "      <td>2</td>\n",
       "    </tr>\n",
       "  </tbody>\n",
       "</table>\n",
       "</div>"
      ],
      "text/plain": [
       "        transaction_key  Subtotal  Tax Amount  Total Amount  Discount Amount  \\\n",
       "231200           231201       1.0        0.06          1.06              0.0   \n",
       "109992           109993       6.0        0.38          6.38              0.0   \n",
       "110682           110683       3.0        0.19          3.19              0.0   \n",
       "717487           717488      12.0        0.75         12.75              0.0   \n",
       "590645           590646       4.5        0.28          4.78              0.0   \n",
       "396191           396192       6.0        0.38          6.38              0.0   \n",
       "602015           602016       1.5        0.09          1.59              0.0   \n",
       "460075           460076       4.0        0.25          4.25              0.0   \n",
       "367504           367505       4.0        0.25          4.25              0.0   \n",
       "329189           329190       3.0        0.19          3.19              0.0   \n",
       "\n",
       "        Quantity  transaction_id  employee_id  product_key  product_price  \\\n",
       "231200         2           89434            4           25            0.5   \n",
       "109992         4           22943            3           51            1.5   \n",
       "110682         2           34424            3           51            1.5   \n",
       "717487         4          227949            2           45            3.0   \n",
       "590645         3           26322            2           54            1.5   \n",
       "396191         3          195593            1           29            2.0   \n",
       "602015         3           79422            5           21            0.5   \n",
       "460075         4          136830            3           10            1.0   \n",
       "367504         4          105602            5            2            1.0   \n",
       "329189         3          199178            7           13            1.0   \n",
       "\n",
       "         date_id  promotion_id  payment_method_id  \n",
       "231200  20191002             4                  2  \n",
       "109992  20160615             4                  2  \n",
       "110682  20170216             4                  2  \n",
       "717487  20240610             4                  1  \n",
       "590645  20160827             4                  1  \n",
       "396191  20230822             4                  2  \n",
       "602015  20190426             4                  1  \n",
       "460075  20220109             4                  2  \n",
       "367504  20201119             4                  2  \n",
       "329189  20230926             4                  2  "
      ]
     },
     "execution_count": 3,
     "metadata": {},
     "output_type": "execute_result"
    }
   ],
   "source": [
    "transactions_final_df.sample(10)"
   ]
  },
  {
   "cell_type": "code",
   "execution_count": 5,
   "metadata": {},
   "outputs": [
    {
     "data": {
      "text/plain": [
       "0"
      ]
     },
     "execution_count": 5,
     "metadata": {},
     "output_type": "execute_result"
    }
   ],
   "source": [
    "transactions_final_df.duplicated().sum()"
   ]
  },
  {
   "cell_type": "code",
   "execution_count": 6,
   "metadata": {},
   "outputs": [
    {
     "data": {
      "text/plain": [
       "transaction_key      0\n",
       "Subtotal             0\n",
       "Tax Amount           0\n",
       "Total Amount         0\n",
       "Discount Amount      0\n",
       "Quantity             0\n",
       "transaction_id       0\n",
       "employee_id          0\n",
       "product_key          0\n",
       "product_price        0\n",
       "date_id              0\n",
       "promotion_id         0\n",
       "payment_method_id    0\n",
       "dtype: int64"
      ]
     },
     "execution_count": 6,
     "metadata": {},
     "output_type": "execute_result"
    }
   ],
   "source": [
    "transactions_final_df.isnull().sum()"
   ]
  },
  {
   "cell_type": "code",
   "execution_count": 7,
   "metadata": {},
   "outputs": [],
   "source": [
    "transactions_final_df.columns = transactions_final_df.columns.str.lower().str.replace(' ', '_')"
   ]
  },
  {
   "cell_type": "code",
   "execution_count": 8,
   "metadata": {},
   "outputs": [
    {
     "data": {
      "text/html": [
       "<div>\n",
       "<style scoped>\n",
       "    .dataframe tbody tr th:only-of-type {\n",
       "        vertical-align: middle;\n",
       "    }\n",
       "\n",
       "    .dataframe tbody tr th {\n",
       "        vertical-align: top;\n",
       "    }\n",
       "\n",
       "    .dataframe thead th {\n",
       "        text-align: right;\n",
       "    }\n",
       "</style>\n",
       "<table border=\"1\" class=\"dataframe\">\n",
       "  <thead>\n",
       "    <tr style=\"text-align: right;\">\n",
       "      <th></th>\n",
       "      <th>transaction_key</th>\n",
       "      <th>subtotal</th>\n",
       "      <th>tax_amount</th>\n",
       "      <th>total_amount</th>\n",
       "      <th>discount_amount</th>\n",
       "      <th>quantity</th>\n",
       "      <th>transaction_id</th>\n",
       "      <th>employee_id</th>\n",
       "      <th>product_key</th>\n",
       "      <th>product_price</th>\n",
       "      <th>date_id</th>\n",
       "      <th>promotion_id</th>\n",
       "      <th>payment_method_id</th>\n",
       "    </tr>\n",
       "  </thead>\n",
       "  <tbody>\n",
       "    <tr>\n",
       "      <th>0</th>\n",
       "      <td>1</td>\n",
       "      <td>5.00</td>\n",
       "      <td>0.31</td>\n",
       "      <td>5.31</td>\n",
       "      <td>0.0</td>\n",
       "      <td>4</td>\n",
       "      <td>100</td>\n",
       "      <td>4</td>\n",
       "      <td>43</td>\n",
       "      <td>1.25</td>\n",
       "      <td>20150101</td>\n",
       "      <td>1</td>\n",
       "      <td>2</td>\n",
       "    </tr>\n",
       "    <tr>\n",
       "      <th>1</th>\n",
       "      <td>2</td>\n",
       "      <td>3.75</td>\n",
       "      <td>0.23</td>\n",
       "      <td>3.98</td>\n",
       "      <td>0.0</td>\n",
       "      <td>3</td>\n",
       "      <td>272</td>\n",
       "      <td>3</td>\n",
       "      <td>43</td>\n",
       "      <td>1.25</td>\n",
       "      <td>20150105</td>\n",
       "      <td>1</td>\n",
       "      <td>2</td>\n",
       "    </tr>\n",
       "    <tr>\n",
       "      <th>2</th>\n",
       "      <td>3</td>\n",
       "      <td>3.75</td>\n",
       "      <td>0.23</td>\n",
       "      <td>3.98</td>\n",
       "      <td>0.0</td>\n",
       "      <td>3</td>\n",
       "      <td>804</td>\n",
       "      <td>1</td>\n",
       "      <td>43</td>\n",
       "      <td>1.25</td>\n",
       "      <td>20150118</td>\n",
       "      <td>1</td>\n",
       "      <td>2</td>\n",
       "    </tr>\n",
       "    <tr>\n",
       "      <th>3</th>\n",
       "      <td>4</td>\n",
       "      <td>2.50</td>\n",
       "      <td>0.16</td>\n",
       "      <td>2.66</td>\n",
       "      <td>0.0</td>\n",
       "      <td>2</td>\n",
       "      <td>852</td>\n",
       "      <td>3</td>\n",
       "      <td>43</td>\n",
       "      <td>1.25</td>\n",
       "      <td>20150119</td>\n",
       "      <td>1</td>\n",
       "      <td>2</td>\n",
       "    </tr>\n",
       "    <tr>\n",
       "      <th>4</th>\n",
       "      <td>5</td>\n",
       "      <td>3.75</td>\n",
       "      <td>0.23</td>\n",
       "      <td>3.98</td>\n",
       "      <td>0.0</td>\n",
       "      <td>3</td>\n",
       "      <td>964</td>\n",
       "      <td>2</td>\n",
       "      <td>43</td>\n",
       "      <td>1.25</td>\n",
       "      <td>20150122</td>\n",
       "      <td>1</td>\n",
       "      <td>2</td>\n",
       "    </tr>\n",
       "  </tbody>\n",
       "</table>\n",
       "</div>"
      ],
      "text/plain": [
       "   transaction_key  subtotal  tax_amount  total_amount  discount_amount  \\\n",
       "0                1      5.00        0.31          5.31              0.0   \n",
       "1                2      3.75        0.23          3.98              0.0   \n",
       "2                3      3.75        0.23          3.98              0.0   \n",
       "3                4      2.50        0.16          2.66              0.0   \n",
       "4                5      3.75        0.23          3.98              0.0   \n",
       "\n",
       "   quantity  transaction_id  employee_id  product_key  product_price  \\\n",
       "0         4             100            4           43           1.25   \n",
       "1         3             272            3           43           1.25   \n",
       "2         3             804            1           43           1.25   \n",
       "3         2             852            3           43           1.25   \n",
       "4         3             964            2           43           1.25   \n",
       "\n",
       "    date_id  promotion_id  payment_method_id  \n",
       "0  20150101             1                  2  \n",
       "1  20150105             1                  2  \n",
       "2  20150118             1                  2  \n",
       "3  20150119             1                  2  \n",
       "4  20150122             1                  2  "
      ]
     },
     "execution_count": 8,
     "metadata": {},
     "output_type": "execute_result"
    }
   ],
   "source": [
    "transactions_final_df.head()"
   ]
  },
  {
   "cell_type": "code",
   "execution_count": 10,
   "metadata": {},
   "outputs": [],
   "source": [
    "transactions_final_df.rename(columns={'subtotal': 'subtotal_amount', 'total_amount': 'total_sale_amount'}, inplace=True)"
   ]
  },
  {
   "cell_type": "code",
   "execution_count": 11,
   "metadata": {},
   "outputs": [],
   "source": [
    "transactions_final_df = transactions_final_df[['transaction_key', 'transaction_id', 'employee_id', 'product_key', 'date_id', 'promotion_id', 'payment_method_id', 'quantity', 'discount_amount', 'subtotal_amount', 'tax_amount', 'total_sale_amount']]"
   ]
  },
  {
   "cell_type": "code",
   "execution_count": 12,
   "metadata": {},
   "outputs": [
    {
     "data": {
      "text/html": [
       "<div>\n",
       "<style scoped>\n",
       "    .dataframe tbody tr th:only-of-type {\n",
       "        vertical-align: middle;\n",
       "    }\n",
       "\n",
       "    .dataframe tbody tr th {\n",
       "        vertical-align: top;\n",
       "    }\n",
       "\n",
       "    .dataframe thead th {\n",
       "        text-align: right;\n",
       "    }\n",
       "</style>\n",
       "<table border=\"1\" class=\"dataframe\">\n",
       "  <thead>\n",
       "    <tr style=\"text-align: right;\">\n",
       "      <th></th>\n",
       "      <th>transaction_key</th>\n",
       "      <th>transaction_id</th>\n",
       "      <th>employee_id</th>\n",
       "      <th>product_key</th>\n",
       "      <th>date_id</th>\n",
       "      <th>promotion_id</th>\n",
       "      <th>payment_method_id</th>\n",
       "      <th>quantity</th>\n",
       "      <th>discount_amount</th>\n",
       "      <th>subtotal_amount</th>\n",
       "      <th>tax_amount</th>\n",
       "      <th>total_sale_amount</th>\n",
       "    </tr>\n",
       "  </thead>\n",
       "  <tbody>\n",
       "    <tr>\n",
       "      <th>0</th>\n",
       "      <td>1</td>\n",
       "      <td>100</td>\n",
       "      <td>4</td>\n",
       "      <td>43</td>\n",
       "      <td>20150101</td>\n",
       "      <td>1</td>\n",
       "      <td>2</td>\n",
       "      <td>4</td>\n",
       "      <td>0.0</td>\n",
       "      <td>5.00</td>\n",
       "      <td>0.31</td>\n",
       "      <td>5.31</td>\n",
       "    </tr>\n",
       "    <tr>\n",
       "      <th>1</th>\n",
       "      <td>2</td>\n",
       "      <td>272</td>\n",
       "      <td>3</td>\n",
       "      <td>43</td>\n",
       "      <td>20150105</td>\n",
       "      <td>1</td>\n",
       "      <td>2</td>\n",
       "      <td>3</td>\n",
       "      <td>0.0</td>\n",
       "      <td>3.75</td>\n",
       "      <td>0.23</td>\n",
       "      <td>3.98</td>\n",
       "    </tr>\n",
       "    <tr>\n",
       "      <th>2</th>\n",
       "      <td>3</td>\n",
       "      <td>804</td>\n",
       "      <td>1</td>\n",
       "      <td>43</td>\n",
       "      <td>20150118</td>\n",
       "      <td>1</td>\n",
       "      <td>2</td>\n",
       "      <td>3</td>\n",
       "      <td>0.0</td>\n",
       "      <td>3.75</td>\n",
       "      <td>0.23</td>\n",
       "      <td>3.98</td>\n",
       "    </tr>\n",
       "    <tr>\n",
       "      <th>3</th>\n",
       "      <td>4</td>\n",
       "      <td>852</td>\n",
       "      <td>3</td>\n",
       "      <td>43</td>\n",
       "      <td>20150119</td>\n",
       "      <td>1</td>\n",
       "      <td>2</td>\n",
       "      <td>2</td>\n",
       "      <td>0.0</td>\n",
       "      <td>2.50</td>\n",
       "      <td>0.16</td>\n",
       "      <td>2.66</td>\n",
       "    </tr>\n",
       "    <tr>\n",
       "      <th>4</th>\n",
       "      <td>5</td>\n",
       "      <td>964</td>\n",
       "      <td>2</td>\n",
       "      <td>43</td>\n",
       "      <td>20150122</td>\n",
       "      <td>1</td>\n",
       "      <td>2</td>\n",
       "      <td>3</td>\n",
       "      <td>0.0</td>\n",
       "      <td>3.75</td>\n",
       "      <td>0.23</td>\n",
       "      <td>3.98</td>\n",
       "    </tr>\n",
       "  </tbody>\n",
       "</table>\n",
       "</div>"
      ],
      "text/plain": [
       "   transaction_key  transaction_id  employee_id  product_key   date_id  \\\n",
       "0                1             100            4           43  20150101   \n",
       "1                2             272            3           43  20150105   \n",
       "2                3             804            1           43  20150118   \n",
       "3                4             852            3           43  20150119   \n",
       "4                5             964            2           43  20150122   \n",
       "\n",
       "   promotion_id  payment_method_id  quantity  discount_amount  \\\n",
       "0             1                  2         4              0.0   \n",
       "1             1                  2         3              0.0   \n",
       "2             1                  2         3              0.0   \n",
       "3             1                  2         2              0.0   \n",
       "4             1                  2         3              0.0   \n",
       "\n",
       "   subtotal_amount  tax_amount  total_sale_amount  \n",
       "0             5.00        0.31               5.31  \n",
       "1             3.75        0.23               3.98  \n",
       "2             3.75        0.23               3.98  \n",
       "3             2.50        0.16               2.66  \n",
       "4             3.75        0.23               3.98  "
      ]
     },
     "execution_count": 12,
     "metadata": {},
     "output_type": "execute_result"
    }
   ],
   "source": [
    "transactions_final_df.head()"
   ]
  },
  {
   "cell_type": "code",
   "execution_count": 13,
   "metadata": {},
   "outputs": [
    {
     "data": {
      "text/plain": [
       "transaction_key        int64\n",
       "transaction_id         int64\n",
       "employee_id            int64\n",
       "product_key            int64\n",
       "date_id                int64\n",
       "promotion_id           int64\n",
       "payment_method_id      int64\n",
       "quantity               int64\n",
       "discount_amount      float64\n",
       "subtotal_amount      float64\n",
       "tax_amount           float64\n",
       "total_sale_amount    float64\n",
       "dtype: object"
      ]
     },
     "execution_count": 13,
     "metadata": {},
     "output_type": "execute_result"
    }
   ],
   "source": [
    "transactions_final_df.dtypes"
   ]
  },
  {
   "cell_type": "code",
   "execution_count": 14,
   "metadata": {},
   "outputs": [],
   "source": [
    "transactions_fact_model = Dimension_Modeler(transactions_final_df)"
   ]
  },
  {
   "cell_type": "code",
   "execution_count": 15,
   "metadata": {},
   "outputs": [
    {
     "name": "stdout",
     "output_type": "stream",
     "text": [
      "fact_transactions.csv created in datasets/fact_dimensions_models/ folder.\n"
     ]
    }
   ],
   "source": [
    "transactions_fact_model.make_csv('fact_transactions')"
   ]
  },
  {
   "cell_type": "markdown",
   "metadata": {},
   "source": [
    "### DIM DATES\n",
    "- date_id (int) DONE\n",
    "- full_date (date) DONE\n",
    "- day (int) DONE\n",
    "- month (int) DONE\n",
    "- year (int) DONE\n",
    "- quarter (int) DONE"
   ]
  },
  {
   "cell_type": "markdown",
   "metadata": {},
   "source": [
    "#### Getting date ID "
   ]
  },
  {
   "cell_type": "code",
   "execution_count": null,
   "metadata": {},
   "outputs": [],
   "source": [
    "transactions_df = pd.read_csv('datasets/donut_shop_transactions.csv')"
   ]
  },
  {
   "cell_type": "code",
   "execution_count": null,
   "metadata": {},
   "outputs": [],
   "source": [
    "transactions_df.head()"
   ]
  },
  {
   "cell_type": "code",
   "execution_count": null,
   "metadata": {},
   "outputs": [],
   "source": [
    "transactions_df['Date'] = pd.to_datetime(transactions_df['Date'])"
   ]
  },
  {
   "cell_type": "code",
   "execution_count": null,
   "metadata": {},
   "outputs": [],
   "source": [
    "transactions_df[['Date']].max()"
   ]
  },
  {
   "cell_type": "code",
   "execution_count": null,
   "metadata": {},
   "outputs": [],
   "source": [
    "transactions_df[['Date']].min()"
   ]
  },
  {
   "cell_type": "code",
   "execution_count": null,
   "metadata": {},
   "outputs": [],
   "source": [
    "transactions_df['date_raw'] = transactions_df['Date'].dt.strftime('%y-%m-%d')"
   ]
  },
  {
   "cell_type": "code",
   "execution_count": null,
   "metadata": {},
   "outputs": [],
   "source": [
    "transactions_df[['date_raw']].min()"
   ]
  },
  {
   "cell_type": "code",
   "execution_count": null,
   "metadata": {},
   "outputs": [],
   "source": [
    "transactions_df[['date_raw']].max()"
   ]
  },
  {
   "cell_type": "code",
   "execution_count": null,
   "metadata": {},
   "outputs": [],
   "source": [
    "transactions_df['date_raw'] = pd.to_datetime(transactions_df['date_raw'], format='%y-%m-%d')"
   ]
  },
  {
   "cell_type": "code",
   "execution_count": null,
   "metadata": {},
   "outputs": [],
   "source": [
    "transactions_df[['date_raw']].max()"
   ]
  },
  {
   "cell_type": "code",
   "execution_count": null,
   "metadata": {},
   "outputs": [],
   "source": [
    "transactions_df[['date_raw']].min()"
   ]
  },
  {
   "cell_type": "code",
   "execution_count": null,
   "metadata": {},
   "outputs": [],
   "source": [
    "transactions_df['date_raw'].dt.day"
   ]
  },
  {
   "cell_type": "code",
   "execution_count": null,
   "metadata": {},
   "outputs": [],
   "source": [
    "transactions_df['date_id'] = transactions_df['date_raw'].dt.year.astype(str) + transactions_df['date_raw'].dt.month.astype(str).str.zfill(2) + transactions_df['date_raw'].dt.day.astype(str).str.zfill(2)"
   ]
  },
  {
   "cell_type": "code",
   "execution_count": null,
   "metadata": {},
   "outputs": [],
   "source": [
    "transactions_df['date_id'] = transactions_df['date_id'].astype(int)"
   ]
  },
  {
   "cell_type": "code",
   "execution_count": null,
   "metadata": {},
   "outputs": [],
   "source": [
    "transactions_df.dtypes"
   ]
  },
  {
   "cell_type": "code",
   "execution_count": null,
   "metadata": {},
   "outputs": [],
   "source": [
    "transactions_df['date_raw'].nunique()"
   ]
  },
  {
   "cell_type": "code",
   "execution_count": null,
   "metadata": {},
   "outputs": [],
   "source": [
    "transactions_df['date_id'].nunique()"
   ]
  },
  {
   "cell_type": "code",
   "execution_count": null,
   "metadata": {},
   "outputs": [],
   "source": [
    "date_df = transactions_df.drop_duplicates('date_id', keep='first').copy()"
   ]
  },
  {
   "cell_type": "code",
   "execution_count": null,
   "metadata": {},
   "outputs": [],
   "source": [
    "date_df['date_id'].count()"
   ]
  },
  {
   "cell_type": "code",
   "execution_count": null,
   "metadata": {},
   "outputs": [],
   "source": [
    "transactions_df.groupby('date_id')['Date'].count().sort_values()"
   ]
  },
  {
   "cell_type": "code",
   "execution_count": null,
   "metadata": {},
   "outputs": [],
   "source": [
    "transactions_df.loc[transactions_df['date_id'] == 20200125]"
   ]
  },
  {
   "cell_type": "markdown",
   "metadata": {},
   "source": [
    "#### Making the date dataframe & extracting the rest of the information we need\n"
   ]
  },
  {
   "cell_type": "code",
   "execution_count": null,
   "metadata": {},
   "outputs": [],
   "source": [
    "date_df = date_df[['date_raw', 'date_id']]"
   ]
  },
  {
   "cell_type": "code",
   "execution_count": null,
   "metadata": {},
   "outputs": [],
   "source": [
    "date_df.duplicated().sum()"
   ]
  },
  {
   "cell_type": "code",
   "execution_count": null,
   "metadata": {},
   "outputs": [],
   "source": [
    "date_df.dtypes"
   ]
  },
  {
   "cell_type": "code",
   "execution_count": null,
   "metadata": {},
   "outputs": [],
   "source": [
    "date_df.rename(columns={'date_raw': 'full_date'}, inplace=True)"
   ]
  },
  {
   "cell_type": "code",
   "execution_count": null,
   "metadata": {},
   "outputs": [],
   "source": [
    "date_df['day'] = date_df['full_date'].dt.day"
   ]
  },
  {
   "cell_type": "code",
   "execution_count": null,
   "metadata": {},
   "outputs": [],
   "source": [
    "date_df.loc[:,'month'] = date_df['full_date'].dt.month"
   ]
  },
  {
   "cell_type": "code",
   "execution_count": null,
   "metadata": {},
   "outputs": [],
   "source": [
    "date_df.loc[:,'year'] = date_df['full_date'].dt.year"
   ]
  },
  {
   "cell_type": "code",
   "execution_count": null,
   "metadata": {},
   "outputs": [],
   "source": [
    "date_df.loc[:,'quarter'] = date_df['full_date'].dt.quarter"
   ]
  },
  {
   "cell_type": "code",
   "execution_count": null,
   "metadata": {},
   "outputs": [],
   "source": [
    "date_df = date_df[['date_id', 'full_date', 'year', 'month', 'day', 'quarter']]\n",
    "date_df"
   ]
  },
  {
   "cell_type": "code",
   "execution_count": null,
   "metadata": {},
   "outputs": [],
   "source": [
    "date_dim_model = Dimension_Modeler(date_df)"
   ]
  },
  {
   "cell_type": "code",
   "execution_count": null,
   "metadata": {},
   "outputs": [],
   "source": [
    "date_dim_model.make_csv('dim_dates')"
   ]
  },
  {
   "cell_type": "markdown",
   "metadata": {},
   "source": [
    "### DIM PROMOTIONS\n",
    "- promotion_id (int)\n",
    "- promotion_name (str) DONE\n",
    "- discount_percentage (decimal 5,2) DONE\n",
    "- description (str) DONE"
   ]
  },
  {
   "cell_type": "code",
   "execution_count": null,
   "metadata": {},
   "outputs": [],
   "source": [
    "promo_df = pd.read_csv('datasets/donut_shop_promos.csv')"
   ]
  },
  {
   "cell_type": "code",
   "execution_count": null,
   "metadata": {},
   "outputs": [],
   "source": [
    "promo_df.head()"
   ]
  },
  {
   "cell_type": "markdown",
   "metadata": {},
   "source": [
    "#### Conversion of discount percentage to float"
   ]
  },
  {
   "cell_type": "code",
   "execution_count": null,
   "metadata": {},
   "outputs": [],
   "source": [
    "promo_df['Discount Perc'] = promo_df['Discount Perc'].apply(lambda x: x.split('%')[0])"
   ]
  },
  {
   "cell_type": "code",
   "execution_count": null,
   "metadata": {},
   "outputs": [],
   "source": [
    "promo_df['Discount Perc'] = promo_df['Discount Perc'].astype(float)"
   ]
  },
  {
   "cell_type": "code",
   "execution_count": null,
   "metadata": {},
   "outputs": [],
   "source": [
    "promo_df.dtypes"
   ]
  },
  {
   "cell_type": "code",
   "execution_count": null,
   "metadata": {},
   "outputs": [],
   "source": [
    "promo_df['Discount Perc'] = promo_df['Discount Perc']/100"
   ]
  },
  {
   "cell_type": "code",
   "execution_count": null,
   "metadata": {},
   "outputs": [],
   "source": [
    "promo_df"
   ]
  },
  {
   "cell_type": "markdown",
   "metadata": {},
   "source": [
    "#### Adding id column, rearranging and fixing column names and saving to csv"
   ]
  },
  {
   "cell_type": "code",
   "execution_count": null,
   "metadata": {},
   "outputs": [],
   "source": [
    "promo_dim_model = Dimension_Modeler(promo_df)"
   ]
  },
  {
   "cell_type": "code",
   "execution_count": null,
   "metadata": {},
   "outputs": [],
   "source": [
    "promo_dim_model.make_id_col('promotion_id')"
   ]
  },
  {
   "cell_type": "code",
   "execution_count": null,
   "metadata": {},
   "outputs": [],
   "source": [
    "promo_dim_model.df"
   ]
  },
  {
   "cell_type": "code",
   "execution_count": null,
   "metadata": {},
   "outputs": [],
   "source": [
    "promo_dim_model.df.columns = promo_dim_model.df.columns.str.lower().str.replace(' ', '_')"
   ]
  },
  {
   "cell_type": "code",
   "execution_count": null,
   "metadata": {},
   "outputs": [],
   "source": [
    "promo_dim_model.df.rename(columns={'promo_name': 'promotion_name', 'discount_perc': 'discount_percentage'}, inplace=True)"
   ]
  },
  {
   "cell_type": "code",
   "execution_count": null,
   "metadata": {},
   "outputs": [],
   "source": [
    "promo_dim_model.df.dtypes"
   ]
  },
  {
   "cell_type": "code",
   "execution_count": null,
   "metadata": {},
   "outputs": [],
   "source": [
    "new_row = pd.DataFrame([{'promotion_id': 4, 'promotion_name': 'NO PROMO', 'discount_percentage': 0, 'description': 'No promotion'}])\n",
    "new_row"
   ]
  },
  {
   "cell_type": "code",
   "execution_count": null,
   "metadata": {},
   "outputs": [],
   "source": [
    "promo_dim_model.df = pd.concat([promo_dim_model.df, new_row], ignore_index=True)"
   ]
  },
  {
   "cell_type": "code",
   "execution_count": null,
   "metadata": {},
   "outputs": [],
   "source": [
    "promo_dim_model.df"
   ]
  },
  {
   "cell_type": "code",
   "execution_count": null,
   "metadata": {},
   "outputs": [],
   "source": [
    "promo_dim_model.make_csv('dim_promotions')"
   ]
  },
  {
   "cell_type": "markdown",
   "metadata": {},
   "source": [
    "### DIM PAYMENT METHODS\n",
    "- payment_method_id (int) DONE\n",
    "- payment_method (str) DONE"
   ]
  },
  {
   "cell_type": "code",
   "execution_count": null,
   "metadata": {},
   "outputs": [],
   "source": [
    "transactions_df = pd.read_csv('datasets/donut_shop_transactions.csv')"
   ]
  },
  {
   "cell_type": "code",
   "execution_count": null,
   "metadata": {},
   "outputs": [],
   "source": [
    "payment_method_df = transactions_df[['Payment Method']]\n",
    "payment_method_df"
   ]
  },
  {
   "cell_type": "code",
   "execution_count": null,
   "metadata": {},
   "outputs": [],
   "source": [
    "payment_method_df =payment_method_df.drop_duplicates(keep='first')"
   ]
  },
  {
   "cell_type": "code",
   "execution_count": null,
   "metadata": {},
   "outputs": [],
   "source": [
    "payment_method_df.drop(columns='level_0', inplace=True)"
   ]
  },
  {
   "cell_type": "code",
   "execution_count": null,
   "metadata": {},
   "outputs": [],
   "source": [
    "payment_method_df.columns = payment_method_df.columns.str.lower().str.replace(' ', '_')"
   ]
  },
  {
   "cell_type": "code",
   "execution_count": null,
   "metadata": {},
   "outputs": [],
   "source": [
    "payment_method_df"
   ]
  },
  {
   "cell_type": "code",
   "execution_count": null,
   "metadata": {},
   "outputs": [],
   "source": [
    "payment_method_dim_model = Dimension_Modeler(payment_method_df)"
   ]
  },
  {
   "cell_type": "code",
   "execution_count": null,
   "metadata": {},
   "outputs": [],
   "source": [
    "payment_method_dim_model.make_id_col('payment_method_id')\n",
    "payment_method_dim_model.df"
   ]
  },
  {
   "cell_type": "code",
   "execution_count": null,
   "metadata": {},
   "outputs": [],
   "source": [
    "payment_method_dim_model.df.dtypes"
   ]
  },
  {
   "cell_type": "code",
   "execution_count": null,
   "metadata": {},
   "outputs": [],
   "source": [
    "payment_method_dim_model.make_csv('dim_payment_methods')"
   ]
  },
  {
   "cell_type": "markdown",
   "metadata": {},
   "source": [
    "### DIM PRODUCTS\n",
    "- product_id (int) (Natural Key) DONE\n",
    "- product_key (int) (Surrogate Key) DONE\n",
    "- product_name (str) DONE\n",
    "- product_category (str) DONE\n",
    "- product_price (decimal 10,2) DONE\n",
    "- product_cost (decimal 10,2) DONE \n",
    "- is_current(boolean) DONE\n",
    "- start_date (date) DONE \n",
    "- end_date (date) DONE"
   ]
  },
  {
   "cell_type": "code",
   "execution_count": null,
   "metadata": {},
   "outputs": [],
   "source": [
    "products_df = pd.read_csv('datasets/donut_shop_product_info.csv')"
   ]
  },
  {
   "cell_type": "code",
   "execution_count": null,
   "metadata": {},
   "outputs": [],
   "source": [
    "products_df"
   ]
  },
  {
   "cell_type": "markdown",
   "metadata": {},
   "source": [
    "#### Getting historical prices and dates associated"
   ]
  },
  {
   "cell_type": "code",
   "execution_count": null,
   "metadata": {},
   "outputs": [],
   "source": [
    "transactions_df = pd.read_csv('datasets/donut_shop_transactions.csv')"
   ]
  },
  {
   "cell_type": "code",
   "execution_count": null,
   "metadata": {},
   "outputs": [],
   "source": [
    "price_history = []\n"
   ]
  },
  {
   "cell_type": "code",
   "execution_count": null,
   "metadata": {},
   "outputs": [],
   "source": [
    "for x in transactions_df.groupby('Category')['Price per Unit'].value_counts().index:\n",
    "    price_history.append({\n",
    "            'category': x[0],\n",
    "            'price': x[1],\n",
    "            'start_date': transactions_df[transactions_df['Price per Unit'] == x[1]]['Date'].min(),\n",
    "            'end_date': transactions_df[transactions_df['Price per Unit'] == x[1]]['Date'].max(),\n",
    "            }\n",
    "                         )"
   ]
  },
  {
   "cell_type": "code",
   "execution_count": null,
   "metadata": {},
   "outputs": [],
   "source": [
    "price_history"
   ]
  },
  {
   "cell_type": "code",
   "execution_count": null,
   "metadata": {},
   "outputs": [],
   "source": [
    "transactions_df[transactions_df['Price per Unit'] == 1.00]['Date'].max()"
   ]
  },
  {
   "cell_type": "code",
   "execution_count": null,
   "metadata": {},
   "outputs": [],
   "source": [
    "transactions_df[transactions_df['Price per Unit'] == 1.00]['Date'].min()"
   ]
  },
  {
   "cell_type": "code",
   "execution_count": null,
   "metadata": {},
   "outputs": [],
   "source": [
    "dim_prod_df = pd.DataFrame(price_history)\n",
    "    "
   ]
  },
  {
   "cell_type": "markdown",
   "metadata": {},
   "source": [
    "#### Getting is_current field"
   ]
  },
  {
   "cell_type": "code",
   "execution_count": null,
   "metadata": {},
   "outputs": [],
   "source": [
    "dim_prod_df"
   ]
  },
  {
   "cell_type": "code",
   "execution_count": null,
   "metadata": {},
   "outputs": [],
   "source": [
    "dim_prod_df['max_start_date'] = dim_prod_df.groupby('category')['start_date'].transform('max')\n",
    "dim_prod_df"
   ]
  },
  {
   "cell_type": "code",
   "execution_count": null,
   "metadata": {},
   "outputs": [],
   "source": [
    "dim_prod_df['is_current'] = dim_prod_df['max_start_date'] == dim_prod_df['start_date']\n",
    "dim_prod_df"
   ]
  },
  {
   "cell_type": "code",
   "execution_count": null,
   "metadata": {},
   "outputs": [],
   "source": [
    "dim_prod_df.drop(columns='max_start_date', inplace=True)\n"
   ]
  },
  {
   "cell_type": "markdown",
   "metadata": {},
   "source": [
    "#### Updating end_date"
   ]
  },
  {
   "cell_type": "code",
   "execution_count": null,
   "metadata": {},
   "outputs": [],
   "source": [
    "dim_prod_df"
   ]
  },
  {
   "cell_type": "code",
   "execution_count": null,
   "metadata": {},
   "outputs": [],
   "source": [
    "max_date = pd.Timestamp.max.strftime('%Y-%m-%d %H:%M:%S')\n",
    "max_date"
   ]
  },
  {
   "cell_type": "code",
   "execution_count": null,
   "metadata": {},
   "outputs": [],
   "source": [
    "dim_prod_df.loc[dim_prod_df['is_current'], 'end_date'] = max_date"
   ]
  },
  {
   "cell_type": "markdown",
   "metadata": {},
   "source": [
    "#### Updating Start_date"
   ]
  },
  {
   "cell_type": "code",
   "execution_count": null,
   "metadata": {},
   "outputs": [],
   "source": [
    "dim_prod_df"
   ]
  },
  {
   "cell_type": "code",
   "execution_count": null,
   "metadata": {},
   "outputs": [],
   "source": [
    "dim_prod_df = dim_prod_df.groupby('category', group_keys=False).apply(update_start_date)"
   ]
  },
  {
   "cell_type": "code",
   "execution_count": null,
   "metadata": {},
   "outputs": [],
   "source": [
    "dim_prod_df"
   ]
  },
  {
   "cell_type": "markdown",
   "metadata": {},
   "source": [
    "#### Adding Historical prices\n"
   ]
  },
  {
   "cell_type": "code",
   "execution_count": null,
   "metadata": {},
   "outputs": [],
   "source": [
    "dim_prod_df"
   ]
  },
  {
   "cell_type": "code",
   "execution_count": null,
   "metadata": {},
   "outputs": [],
   "source": [
    "products_df"
   ]
  },
  {
   "cell_type": "code",
   "execution_count": null,
   "metadata": {},
   "outputs": [],
   "source": [
    "dim_prod_df = pd.merge(dim_prod_df, products_df, how='left', left_on='category', right_on='Product Category')"
   ]
  },
  {
   "cell_type": "code",
   "execution_count": null,
   "metadata": {},
   "outputs": [],
   "source": [
    "dim_prod_df = dim_prod_df[['category', 'price', 'start_date', 'end_date', 'is_current', 'Product Cost', 'Historical Cost']]"
   ]
  },
  {
   "cell_type": "code",
   "execution_count": null,
   "metadata": {},
   "outputs": [],
   "source": [
    "dim_prod_df"
   ]
  },
  {
   "cell_type": "code",
   "execution_count": null,
   "metadata": {},
   "outputs": [],
   "source": [
    "dim_prod_df.loc[~dim_prod_df['is_current'], 'Product Cost'] = dim_prod_df['Historical Cost']\n",
    "dim_prod_df.drop(columns='Historical Cost', inplace=True)"
   ]
  },
  {
   "cell_type": "code",
   "execution_count": null,
   "metadata": {},
   "outputs": [],
   "source": [
    "dim_prod_df"
   ]
  },
  {
   "cell_type": "code",
   "execution_count": null,
   "metadata": {},
   "outputs": [],
   "source": [
    "products_df"
   ]
  },
  {
   "cell_type": "markdown",
   "metadata": {},
   "source": [
    "#### Adding product name"
   ]
  },
  {
   "cell_type": "code",
   "execution_count": null,
   "metadata": {},
   "outputs": [],
   "source": [
    "dim_prod_df"
   ]
  },
  {
   "cell_type": "code",
   "execution_count": null,
   "metadata": {},
   "outputs": [],
   "source": [
    "products_list_df = transactions_df[['Product Name', 'Category']].drop_duplicates(keep='first').reset_index().drop(columns='index')"
   ]
  },
  {
   "cell_type": "code",
   "execution_count": null,
   "metadata": {},
   "outputs": [],
   "source": [
    "products_list_df"
   ]
  },
  {
   "cell_type": "code",
   "execution_count": null,
   "metadata": {},
   "outputs": [],
   "source": [
    "dim_prod_df = pd.merge(dim_prod_df, products_list_df, how='left', left_on='category', right_on='Category')\n"
   ]
  },
  {
   "cell_type": "code",
   "execution_count": null,
   "metadata": {},
   "outputs": [],
   "source": [
    "dim_prod_df.drop(columns='Category', inplace=True)\n",
    "dim_prod_df"
   ]
  },
  {
   "cell_type": "markdown",
   "metadata": {},
   "source": [
    "#### Adding surrogate key / PK"
   ]
  },
  {
   "cell_type": "code",
   "execution_count": null,
   "metadata": {},
   "outputs": [],
   "source": [
    "prod_dim_model = Dimension_Modeler(dim_prod_df)"
   ]
  },
  {
   "cell_type": "code",
   "execution_count": null,
   "metadata": {},
   "outputs": [],
   "source": [
    "prod_dim_model.make_id_col('product_key')"
   ]
  },
  {
   "cell_type": "markdown",
   "metadata": {},
   "source": [
    "#### Product ID creation (Natural key/business key)"
   ]
  },
  {
   "cell_type": "code",
   "execution_count": null,
   "metadata": {},
   "outputs": [],
   "source": [
    "dim_prod_df = prod_dim_model.df"
   ]
  },
  {
   "cell_type": "code",
   "execution_count": null,
   "metadata": {},
   "outputs": [],
   "source": [
    "dim_prod_df.head()"
   ]
  },
  {
   "cell_type": "code",
   "execution_count": null,
   "metadata": {},
   "outputs": [],
   "source": [
    "grouped_df = dim_prod_df.groupby('Product Name', group_keys=False)\n",
    "\n",
    "modified_groups = []"
   ]
  },
  {
   "cell_type": "code",
   "execution_count": null,
   "metadata": {},
   "outputs": [],
   "source": [
    "id_counter = 100\n",
    "\n",
    "for group_name, group_data in grouped_df:\n",
    "    current_df = grouped_df.get_group(group_name).copy()\n",
    "    current_df['product_id'] = id_counter\n",
    "    id_counter += 1\n",
    "    modified_groups.append(current_df)\n",
    "\n",
    "combined_df = pd.concat(modified_groups)"
   ]
  },
  {
   "cell_type": "code",
   "execution_count": null,
   "metadata": {},
   "outputs": [],
   "source": [
    "dim_prod_df = combined_df"
   ]
  },
  {
   "cell_type": "code",
   "execution_count": null,
   "metadata": {},
   "outputs": [],
   "source": [
    "dim_prod_df.sort_values(by='product_id')\n"
   ]
  },
  {
   "cell_type": "markdown",
   "metadata": {},
   "source": [
    "#### Fixing any dtypes and reordering columns & saving dim_products csv file."
   ]
  },
  {
   "cell_type": "code",
   "execution_count": null,
   "metadata": {},
   "outputs": [],
   "source": [
    "dim_prod_df.head()"
   ]
  },
  {
   "cell_type": "code",
   "execution_count": null,
   "metadata": {},
   "outputs": [],
   "source": [
    "dim_prod_df.dtypes"
   ]
  },
  {
   "cell_type": "code",
   "execution_count": null,
   "metadata": {},
   "outputs": [],
   "source": [
    "dim_prod_df['start_date'] = pd.to_datetime(dim_prod_df['start_date'])\n",
    "dim_prod_df['end_date'] = pd.to_datetime(dim_prod_df['end_date'])"
   ]
  },
  {
   "cell_type": "code",
   "execution_count": null,
   "metadata": {},
   "outputs": [],
   "source": [
    "dim_prod_df.head()"
   ]
  },
  {
   "cell_type": "code",
   "execution_count": null,
   "metadata": {},
   "outputs": [],
   "source": [
    "dim_prod_df.columns = dim_prod_df.columns.str.lower().str.replace(' ', '_')\n",
    "dim_prod_df.head()"
   ]
  },
  {
   "cell_type": "code",
   "execution_count": null,
   "metadata": {},
   "outputs": [],
   "source": [
    "dim_prod_df.rename(columns={'category': 'product_category', 'price': 'product_price'}, inplace=True)"
   ]
  },
  {
   "cell_type": "code",
   "execution_count": null,
   "metadata": {},
   "outputs": [],
   "source": [
    "dim_prod_df.head()"
   ]
  },
  {
   "cell_type": "code",
   "execution_count": null,
   "metadata": {},
   "outputs": [],
   "source": [
    "prod_dim_model.df = dim_prod_df[['product_key', 'product_id', 'product_name', 'product_category', 'product_price', 'product_cost', 'start_date', 'end_date', 'is_current']]"
   ]
  },
  {
   "cell_type": "code",
   "execution_count": null,
   "metadata": {},
   "outputs": [],
   "source": [
    "prod_dim_model.df.head()"
   ]
  },
  {
   "cell_type": "code",
   "execution_count": null,
   "metadata": {},
   "outputs": [],
   "source": [
    "prod_dim_model.make_csv('dim_products')"
   ]
  },
  {
   "cell_type": "markdown",
   "metadata": {},
   "source": [
    "### DIM EMPLOYEES\n",
    "- employee_id (int) DONE \n",
    "- employee_name (str) DONE \n",
    "- job_title (str) DONE "
   ]
  },
  {
   "cell_type": "code",
   "execution_count": null,
   "metadata": {},
   "outputs": [],
   "source": [
    "employee_df = pd.read_csv('datasets/donut_shop_employees.csv')\n"
   ]
  },
  {
   "cell_type": "code",
   "execution_count": null,
   "metadata": {},
   "outputs": [],
   "source": [
    "dim_model = Dimension_Modeler(employee_df)"
   ]
  },
  {
   "cell_type": "code",
   "execution_count": null,
   "metadata": {},
   "outputs": [],
   "source": [
    "employee_df.columns = ['employee_name', 'job_title']"
   ]
  },
  {
   "cell_type": "code",
   "execution_count": null,
   "metadata": {},
   "outputs": [],
   "source": [
    "employee_df.dtypes"
   ]
  },
  {
   "cell_type": "code",
   "execution_count": null,
   "metadata": {},
   "outputs": [],
   "source": [
    "employee_df = dim_model.make_id_col('employee_id')"
   ]
  },
  {
   "cell_type": "code",
   "execution_count": null,
   "metadata": {},
   "outputs": [],
   "source": [
    "employee_df.dtypes"
   ]
  },
  {
   "cell_type": "code",
   "execution_count": null,
   "metadata": {},
   "outputs": [],
   "source": [
    "employee_df"
   ]
  },
  {
   "cell_type": "code",
   "execution_count": null,
   "metadata": {},
   "outputs": [],
   "source": [
    "dim_model.make_csv('dim_employees')"
   ]
  }
 ],
 "metadata": {
  "kernelspec": {
   "display_name": "base",
   "language": "python",
   "name": "python3"
  },
  "language_info": {
   "codemirror_mode": {
    "name": "ipython",
    "version": 3
   },
   "file_extension": ".py",
   "mimetype": "text/x-python",
   "name": "python",
   "nbconvert_exporter": "python",
   "pygments_lexer": "ipython3",
   "version": "3.11.7"
  }
 },
 "nbformat": 4,
 "nbformat_minor": 2
}
